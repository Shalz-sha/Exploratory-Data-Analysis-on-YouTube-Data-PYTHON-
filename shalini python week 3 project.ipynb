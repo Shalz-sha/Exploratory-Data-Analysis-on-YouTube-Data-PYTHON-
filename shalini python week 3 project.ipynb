{
 "cells": [
  {
   "cell_type": "markdown",
   "id": "093b1d15",
   "metadata": {},
   "source": [
    "# COURSE 2: PYTHON GRADED PROJECT 03\n"
   ]
  },
  {
   "cell_type": "markdown",
   "id": "8dcd6d08",
   "metadata": {},
   "source": [
    "**1: IMPORT REQUIRED LIBRARIES AND READ THE PROVIDED DATASET (youtube_dislike_dataset.csv) AND RETRIEVE TOP 5 AND BOTTOM 5 RECORDS.**\n"
   ]
  },
  {
   "cell_type": "markdown",
   "id": "b0ad93ea",
   "metadata": {},
   "source": [
    "Import required libraries"
   ]
  },
  {
   "cell_type": "code",
   "execution_count": null,
   "id": "79f67898",
   "metadata": {},
   "outputs": [],
   "source": [
    "import numpy as np\n",
    "import pandas as pd\n",
    "import seabon as sns\n",
    "import warnings\n",
    "warnings.filterwarnings('ignore')"
   ]
  },
  {
   "cell_type": "markdown",
   "id": "04d9b6d9",
   "metadata": {},
   "source": [
    "**All the required liberaries are imported**\n",
    "\n",
    "* pandas\n",
    "* numpy\n",
    "* seabon\n",
    "* mathplot"
   ]
  },
  {
   "cell_type": "markdown",
   "id": "e1ffec83",
   "metadata": {},
   "source": [
    "1:**Pandas**\n",
    "\n",
    "* Pandas contain data structures and data manipulation tools designed for data cleaning and analysis.\n",
    "* While pandas adopt many coding idioms from NumPy, the biggest difference is that pandas is designed for working with tabular or heterogeneous data.\n",
    "* NumPy, by contrast, is best suited for working with homogeneous numerical array data.\n",
    "* The name Pandas is derived from the term “panel data”, an econometrics term for multidimensional structured data sets.\n",
    "\n",
    "**How to install pandas**\n",
    "\n",
    "You can use-\n",
    "!pip install pandas\n",
    "You can import it as-\n",
    "import pandas as pd\n",
    "\n",
    "2:**numpy**\n",
    "    \n",
    "* NumPy is a python package that stands for ‘Numerical Python’.\n",
    "* Numpy is the core library for scientific computing, which contains a powerful n-dimensional array object, \n",
    "* provides tools for integrating C, C++, etc.\n",
    "* It contains a powerful N-dimensional array object.\n",
    "\n",
    "**Install numpy:**\n",
    "    \n",
    "You can use-\n",
    "!pip install numpy\n",
    "You can import it as-\n",
    "import numpy as np\n",
    "\n",
    "3:**Seabon**\n",
    "    \n",
    "* Seaborn is a library for making statistical graphics in Python. \n",
    "* It builds on top of matplotlib and integrates closely with pandas data structures.\n",
    "* Seaborn helps you explore and understand your data.\n",
    "\n",
    "4:**Matplotlib**\n",
    "    \n",
    "* Matplotlib is a cross-platform, data visualization and graphical plotting library (histograms, scatter plots, bar charts, etc) \n",
    "* for Python and its numerical extension NumPy\n"
   ]
  },
  {
   "cell_type": "markdown",
   "id": "a3bda886",
   "metadata": {},
   "source": [
    "**Read the provided dataset (youtube_dislike_dataset.csv)**"
   ]
  },
  {
   "cell_type": "markdown",
   "id": "0af53572",
   "metadata": {},
   "source": [
    "Here i've converted a given data set into excel format and read it."
   ]
  },
  {
   "cell_type": "code",
   "execution_count": 27,
   "id": "dfa1990a",
   "metadata": {},
   "outputs": [
    {
     "data": {
      "text/html": [
       "<div>\n",
       "<style scoped>\n",
       "    .dataframe tbody tr th:only-of-type {\n",
       "        vertical-align: middle;\n",
       "    }\n",
       "\n",
       "    .dataframe tbody tr th {\n",
       "        vertical-align: top;\n",
       "    }\n",
       "\n",
       "    .dataframe thead th {\n",
       "        text-align: right;\n",
       "    }\n",
       "</style>\n",
       "<table border=\"1\" class=\"dataframe\">\n",
       "  <thead>\n",
       "    <tr style=\"text-align: right;\">\n",
       "      <th></th>\n",
       "      <th>video_id</th>\n",
       "      <th>title</th>\n",
       "      <th>channel_id</th>\n",
       "      <th>channel_title</th>\n",
       "      <th>published_at</th>\n",
       "      <th>view_count</th>\n",
       "      <th>likes</th>\n",
       "      <th>dislikes</th>\n",
       "      <th>comment_count</th>\n",
       "      <th>tags</th>\n",
       "      <th>description</th>\n",
       "      <th>comments</th>\n",
       "    </tr>\n",
       "  </thead>\n",
       "  <tbody>\n",
       "    <tr>\n",
       "      <th>0</th>\n",
       "      <td>--0bCF-iK2E</td>\n",
       "      <td>Jadon Sancho  Magical Skills &amp; Goals</td>\n",
       "      <td>UC6UL29enLNe4mqwTfAyeNuw</td>\n",
       "      <td>Bundesliga</td>\n",
       "      <td>2021-07-01 10:00:00</td>\n",
       "      <td>1048888</td>\n",
       "      <td>19515</td>\n",
       "      <td>226</td>\n",
       "      <td>1319</td>\n",
       "      <td>football soccer ftbol alemn Bundesliga season ...</td>\n",
       "      <td>Enjoy the best skills and goals from Jadon San...</td>\n",
       "      <td>Respect to Dortmund fans,must be sad losing hi...</td>\n",
       "    </tr>\n",
       "    <tr>\n",
       "      <th>1</th>\n",
       "      <td>--14w5SOEUs</td>\n",
       "      <td>Migos - Avalanche (Official Video)</td>\n",
       "      <td>UCGIelM2Dj3zza3xyV3pL3WQ</td>\n",
       "      <td>MigosVEVO</td>\n",
       "      <td>2021-06-10 16:00:00</td>\n",
       "      <td>15352638</td>\n",
       "      <td>359277</td>\n",
       "      <td>7479</td>\n",
       "      <td>18729</td>\n",
       "      <td>Migos Avalanche Quality Control Music/Motown R...</td>\n",
       "      <td>Watch the the official video for Migos - \"Aval...</td>\n",
       "      <td>Migos just makes me want to live my live to th...</td>\n",
       "    </tr>\n",
       "    <tr>\n",
       "      <th>2</th>\n",
       "      <td>--40TEbZ9Is</td>\n",
       "      <td>Supporting Actress in a Comedy: 73rd Emmys</td>\n",
       "      <td>UClBKH8yZRcM4AsRjDVEdjMg</td>\n",
       "      <td>Television Academy</td>\n",
       "      <td>2021-09-20 01:03:32</td>\n",
       "      <td>925281</td>\n",
       "      <td>11212</td>\n",
       "      <td>401</td>\n",
       "      <td>831</td>\n",
       "      <td></td>\n",
       "      <td>Hannah Waddingham wins the Emmy for Supporting...</td>\n",
       "      <td>Hannah's energy bursts through any screen. Wel...</td>\n",
       "    </tr>\n",
       "    <tr>\n",
       "      <th>3</th>\n",
       "      <td>--4tfbSyYDE</td>\n",
       "      <td>JO1'YOUNG (JO1 ver.)' PERFORMANCE VIDEO</td>\n",
       "      <td>UCsmXiDP8S40uBeJYxvyulmA</td>\n",
       "      <td>JO1</td>\n",
       "      <td>2021-03-03 10:00:17</td>\n",
       "      <td>2641597</td>\n",
       "      <td>39131</td>\n",
       "      <td>441</td>\n",
       "      <td>3745</td>\n",
       "      <td>PRODUCE101JAPAN              JO1   TheSTAR STA...</td>\n",
       "      <td>JO1'YOUNG (JO1 ver.)' PERFORMANCE VIDEO\\n\\n---...</td>\n",
       "      <td>youngVer&gt;&lt;  REN is really PERFECT. It's not ju...</td>\n",
       "    </tr>\n",
       "    <tr>\n",
       "      <th>4</th>\n",
       "      <td>--DKkzWVh-E</td>\n",
       "      <td>Why Retaining Walls Collapse</td>\n",
       "      <td>UCMOqf8ab-42UUQIdVoKwjlQ</td>\n",
       "      <td>Practical Engineering</td>\n",
       "      <td>2021-12-07 13:00:00</td>\n",
       "      <td>715724</td>\n",
       "      <td>32887</td>\n",
       "      <td>367</td>\n",
       "      <td>1067</td>\n",
       "      <td>retaining wall New Jersey highway Direct Conne...</td>\n",
       "      <td>One of the most important (and innocuous) part...</td>\n",
       "      <td>Keep up with all my projects here: https://pr...</td>\n",
       "    </tr>\n",
       "    <tr>\n",
       "      <th>...</th>\n",
       "      <td>...</td>\n",
       "      <td>...</td>\n",
       "      <td>...</td>\n",
       "      <td>...</td>\n",
       "      <td>...</td>\n",
       "      <td>...</td>\n",
       "      <td>...</td>\n",
       "      <td>...</td>\n",
       "      <td>...</td>\n",
       "      <td>...</td>\n",
       "      <td>...</td>\n",
       "      <td>...</td>\n",
       "    </tr>\n",
       "    <tr>\n",
       "      <th>37417</th>\n",
       "      <td>zzd4ydafGR0</td>\n",
       "      <td>Lil Tjay - Calling My Phone (feat. 6LACK) [Off...</td>\n",
       "      <td>UCEB4a5o_6KfjxHwNMnmj54Q</td>\n",
       "      <td>Lil Tjay</td>\n",
       "      <td>2021-02-12 05:03:49</td>\n",
       "      <td>120408275</td>\n",
       "      <td>2180780</td>\n",
       "      <td>35871</td>\n",
       "      <td>81360</td>\n",
       "      <td>Lil Tjay Steady Calling My Phone Calling My Ph...</td>\n",
       "      <td>Official video for \"Calling My Phone\" by Lil T...</td>\n",
       "      <td>'DESTINED 2 WIN' OUT NOW !! https://liltjay.ln...</td>\n",
       "    </tr>\n",
       "    <tr>\n",
       "      <th>37418</th>\n",
       "      <td>zziBybeSAtw</td>\n",
       "      <td>PELICANS at LAKERS | FULL GAME HIGHLIGHTS | Ja...</td>\n",
       "      <td>UCWJ2lWNubArHWmf3FIHbfcQ</td>\n",
       "      <td>NBA</td>\n",
       "      <td>2021-01-16 05:39:05</td>\n",
       "      <td>2841917</td>\n",
       "      <td>20759</td>\n",
       "      <td>1049</td>\n",
       "      <td>2624</td>\n",
       "      <td>NBA G League Basketball game-0022000187 Lakers...</td>\n",
       "      <td>PELICANS at LAKERS | FULL GAME HIGHLIGHTS | Ja...</td>\n",
       "      <td>Montrezl Harrell is going crazy with the rebou...</td>\n",
       "    </tr>\n",
       "    <tr>\n",
       "      <th>37419</th>\n",
       "      <td>zzk09ESX7e0</td>\n",
       "      <td>[MV]  (MAMAMOO) - Where Are We Now</td>\n",
       "      <td>UCuhAUMLzJxlP1W7mEk0_6lA</td>\n",
       "      <td>MAMAMOO</td>\n",
       "      <td>2021-06-02 09:00:10</td>\n",
       "      <td>13346678</td>\n",
       "      <td>720854</td>\n",
       "      <td>4426</td>\n",
       "      <td>90616</td>\n",
       "      <td>MAMAMOO  WAW  WAW MAMAMOO WAW Where Are We Now...</td>\n",
       "      <td>[MV]  (MAMAMOO) - Where Are We Now\\n\\nInstagra...</td>\n",
       "      <td>I honestly do not know why this song hit so ha...</td>\n",
       "    </tr>\n",
       "    <tr>\n",
       "      <th>37420</th>\n",
       "      <td>zzmQEb0Em5I</td>\n",
       "      <td>FELLIPE ESCUDERO- Master Podcast  #12</td>\n",
       "      <td>UC8NjnNWMsRqq11NYvHAQb1g</td>\n",
       "      <td>Master Podcast</td>\n",
       "      <td>2020-10-20 20:59:30</td>\n",
       "      <td>252057</td>\n",
       "      <td>19198</td>\n",
       "      <td>1234</td>\n",
       "      <td>1471</td>\n",
       "      <td>master masterpodcast lord lord vinheteiro z z ...</td>\n",
       "      <td>DOCTOR HAIR\\nhttps://www.thedoctorhair.com/?fb...</td>\n",
       "      <td>Foi um prazer passar esta tarde com vocs debat...</td>\n",
       "    </tr>\n",
       "    <tr>\n",
       "      <th>37421</th>\n",
       "      <td>zzxPZwaA-8w</td>\n",
       "      <td>Gareth Bale brace secures dramatic comeback on...</td>\n",
       "      <td>UCEg25rdRZXg32iwai6N6l0w</td>\n",
       "      <td>Tottenham Hotspur</td>\n",
       "      <td>2021-05-23 21:00:31</td>\n",
       "      <td>2252090</td>\n",
       "      <td>34063</td>\n",
       "      <td>868</td>\n",
       "      <td>2004</td>\n",
       "      <td>Spurs Tottenham Hotspur   Tottenham Leicester ...</td>\n",
       "      <td>Two minute highlights from Tottenham Hotspur's...</td>\n",
       "      <td>Thank you Kane for everything you have given t...</td>\n",
       "    </tr>\n",
       "  </tbody>\n",
       "</table>\n",
       "<p>37422 rows × 12 columns</p>\n",
       "</div>"
      ],
      "text/plain": [
       "          video_id                                              title  \\\n",
       "0      --0bCF-iK2E               Jadon Sancho  Magical Skills & Goals   \n",
       "1      --14w5SOEUs                 Migos - Avalanche (Official Video)   \n",
       "2      --40TEbZ9Is         Supporting Actress in a Comedy: 73rd Emmys   \n",
       "3      --4tfbSyYDE            JO1'YOUNG (JO1 ver.)' PERFORMANCE VIDEO   \n",
       "4      --DKkzWVh-E                       Why Retaining Walls Collapse   \n",
       "...            ...                                                ...   \n",
       "37417  zzd4ydafGR0  Lil Tjay - Calling My Phone (feat. 6LACK) [Off...   \n",
       "37418  zziBybeSAtw  PELICANS at LAKERS | FULL GAME HIGHLIGHTS | Ja...   \n",
       "37419  zzk09ESX7e0                 [MV]  (MAMAMOO) - Where Are We Now   \n",
       "37420  zzmQEb0Em5I              FELLIPE ESCUDERO- Master Podcast  #12   \n",
       "37421  zzxPZwaA-8w  Gareth Bale brace secures dramatic comeback on...   \n",
       "\n",
       "                     channel_id          channel_title         published_at  \\\n",
       "0      UC6UL29enLNe4mqwTfAyeNuw             Bundesliga  2021-07-01 10:00:00   \n",
       "1      UCGIelM2Dj3zza3xyV3pL3WQ              MigosVEVO  2021-06-10 16:00:00   \n",
       "2      UClBKH8yZRcM4AsRjDVEdjMg     Television Academy  2021-09-20 01:03:32   \n",
       "3      UCsmXiDP8S40uBeJYxvyulmA                    JO1  2021-03-03 10:00:17   \n",
       "4      UCMOqf8ab-42UUQIdVoKwjlQ  Practical Engineering  2021-12-07 13:00:00   \n",
       "...                         ...                    ...                  ...   \n",
       "37417  UCEB4a5o_6KfjxHwNMnmj54Q               Lil Tjay  2021-02-12 05:03:49   \n",
       "37418  UCWJ2lWNubArHWmf3FIHbfcQ                    NBA  2021-01-16 05:39:05   \n",
       "37419  UCuhAUMLzJxlP1W7mEk0_6lA                MAMAMOO  2021-06-02 09:00:10   \n",
       "37420  UC8NjnNWMsRqq11NYvHAQb1g         Master Podcast  2020-10-20 20:59:30   \n",
       "37421  UCEg25rdRZXg32iwai6N6l0w      Tottenham Hotspur  2021-05-23 21:00:31   \n",
       "\n",
       "       view_count    likes  dislikes  comment_count  \\\n",
       "0         1048888    19515       226           1319   \n",
       "1        15352638   359277      7479          18729   \n",
       "2          925281    11212       401            831   \n",
       "3         2641597    39131       441           3745   \n",
       "4          715724    32887       367           1067   \n",
       "...           ...      ...       ...            ...   \n",
       "37417   120408275  2180780     35871          81360   \n",
       "37418     2841917    20759      1049           2624   \n",
       "37419    13346678   720854      4426          90616   \n",
       "37420      252057    19198      1234           1471   \n",
       "37421     2252090    34063       868           2004   \n",
       "\n",
       "                                                    tags  \\\n",
       "0      football soccer ftbol alemn Bundesliga season ...   \n",
       "1      Migos Avalanche Quality Control Music/Motown R...   \n",
       "2                                                          \n",
       "3      PRODUCE101JAPAN              JO1   TheSTAR STA...   \n",
       "4      retaining wall New Jersey highway Direct Conne...   \n",
       "...                                                  ...   \n",
       "37417  Lil Tjay Steady Calling My Phone Calling My Ph...   \n",
       "37418  NBA G League Basketball game-0022000187 Lakers...   \n",
       "37419  MAMAMOO  WAW  WAW MAMAMOO WAW Where Are We Now...   \n",
       "37420  master masterpodcast lord lord vinheteiro z z ...   \n",
       "37421  Spurs Tottenham Hotspur   Tottenham Leicester ...   \n",
       "\n",
       "                                             description  \\\n",
       "0      Enjoy the best skills and goals from Jadon San...   \n",
       "1      Watch the the official video for Migos - \"Aval...   \n",
       "2      Hannah Waddingham wins the Emmy for Supporting...   \n",
       "3      JO1'YOUNG (JO1 ver.)' PERFORMANCE VIDEO\\n\\n---...   \n",
       "4      One of the most important (and innocuous) part...   \n",
       "...                                                  ...   \n",
       "37417  Official video for \"Calling My Phone\" by Lil T...   \n",
       "37418  PELICANS at LAKERS | FULL GAME HIGHLIGHTS | Ja...   \n",
       "37419  [MV]  (MAMAMOO) - Where Are We Now\\n\\nInstagra...   \n",
       "37420  DOCTOR HAIR\\nhttps://www.thedoctorhair.com/?fb...   \n",
       "37421  Two minute highlights from Tottenham Hotspur's...   \n",
       "\n",
       "                                                comments  \n",
       "0      Respect to Dortmund fans,must be sad losing hi...  \n",
       "1      Migos just makes me want to live my live to th...  \n",
       "2      Hannah's energy bursts through any screen. Wel...  \n",
       "3      youngVer><  REN is really PERFECT. It's not ju...  \n",
       "4       Keep up with all my projects here: https://pr...  \n",
       "...                                                  ...  \n",
       "37417  'DESTINED 2 WIN' OUT NOW !! https://liltjay.ln...  \n",
       "37418  Montrezl Harrell is going crazy with the rebou...  \n",
       "37419  I honestly do not know why this song hit so ha...  \n",
       "37420  Foi um prazer passar esta tarde com vocs debat...  \n",
       "37421  Thank you Kane for everything you have given t...  \n",
       "\n",
       "[37422 rows x 12 columns]"
      ]
     },
     "execution_count": 27,
     "metadata": {},
     "output_type": "execute_result"
    }
   ],
   "source": [
    "d1= pd.read_csv('.\\downloads\\youtube_dislike_dataset.csv')\n",
    "d1\n",
    "    \n",
    "    # data is read using panda library\n"
   ]
  },
  {
   "cell_type": "markdown",
   "id": "4594b4b5",
   "metadata": {},
   "source": [
    "**Retrieve top 5 records.**"
   ]
  },
  {
   "cell_type": "code",
   "execution_count": 28,
   "id": "91131c71",
   "metadata": {},
   "outputs": [
    {
     "data": {
      "text/html": [
       "<div>\n",
       "<style scoped>\n",
       "    .dataframe tbody tr th:only-of-type {\n",
       "        vertical-align: middle;\n",
       "    }\n",
       "\n",
       "    .dataframe tbody tr th {\n",
       "        vertical-align: top;\n",
       "    }\n",
       "\n",
       "    .dataframe thead th {\n",
       "        text-align: right;\n",
       "    }\n",
       "</style>\n",
       "<table border=\"1\" class=\"dataframe\">\n",
       "  <thead>\n",
       "    <tr style=\"text-align: right;\">\n",
       "      <th></th>\n",
       "      <th>video_id</th>\n",
       "      <th>title</th>\n",
       "      <th>channel_id</th>\n",
       "      <th>channel_title</th>\n",
       "      <th>published_at</th>\n",
       "      <th>view_count</th>\n",
       "      <th>likes</th>\n",
       "      <th>dislikes</th>\n",
       "      <th>comment_count</th>\n",
       "      <th>tags</th>\n",
       "      <th>description</th>\n",
       "      <th>comments</th>\n",
       "    </tr>\n",
       "  </thead>\n",
       "  <tbody>\n",
       "    <tr>\n",
       "      <th>0</th>\n",
       "      <td>--0bCF-iK2E</td>\n",
       "      <td>Jadon Sancho  Magical Skills &amp; Goals</td>\n",
       "      <td>UC6UL29enLNe4mqwTfAyeNuw</td>\n",
       "      <td>Bundesliga</td>\n",
       "      <td>2021-07-01 10:00:00</td>\n",
       "      <td>1048888</td>\n",
       "      <td>19515</td>\n",
       "      <td>226</td>\n",
       "      <td>1319</td>\n",
       "      <td>football soccer ftbol alemn Bundesliga season ...</td>\n",
       "      <td>Enjoy the best skills and goals from Jadon San...</td>\n",
       "      <td>Respect to Dortmund fans,must be sad losing hi...</td>\n",
       "    </tr>\n",
       "    <tr>\n",
       "      <th>1</th>\n",
       "      <td>--14w5SOEUs</td>\n",
       "      <td>Migos - Avalanche (Official Video)</td>\n",
       "      <td>UCGIelM2Dj3zza3xyV3pL3WQ</td>\n",
       "      <td>MigosVEVO</td>\n",
       "      <td>2021-06-10 16:00:00</td>\n",
       "      <td>15352638</td>\n",
       "      <td>359277</td>\n",
       "      <td>7479</td>\n",
       "      <td>18729</td>\n",
       "      <td>Migos Avalanche Quality Control Music/Motown R...</td>\n",
       "      <td>Watch the the official video for Migos - \"Aval...</td>\n",
       "      <td>Migos just makes me want to live my live to th...</td>\n",
       "    </tr>\n",
       "    <tr>\n",
       "      <th>2</th>\n",
       "      <td>--40TEbZ9Is</td>\n",
       "      <td>Supporting Actress in a Comedy: 73rd Emmys</td>\n",
       "      <td>UClBKH8yZRcM4AsRjDVEdjMg</td>\n",
       "      <td>Television Academy</td>\n",
       "      <td>2021-09-20 01:03:32</td>\n",
       "      <td>925281</td>\n",
       "      <td>11212</td>\n",
       "      <td>401</td>\n",
       "      <td>831</td>\n",
       "      <td></td>\n",
       "      <td>Hannah Waddingham wins the Emmy for Supporting...</td>\n",
       "      <td>Hannah's energy bursts through any screen. Wel...</td>\n",
       "    </tr>\n",
       "    <tr>\n",
       "      <th>3</th>\n",
       "      <td>--4tfbSyYDE</td>\n",
       "      <td>JO1'YOUNG (JO1 ver.)' PERFORMANCE VIDEO</td>\n",
       "      <td>UCsmXiDP8S40uBeJYxvyulmA</td>\n",
       "      <td>JO1</td>\n",
       "      <td>2021-03-03 10:00:17</td>\n",
       "      <td>2641597</td>\n",
       "      <td>39131</td>\n",
       "      <td>441</td>\n",
       "      <td>3745</td>\n",
       "      <td>PRODUCE101JAPAN              JO1   TheSTAR STA...</td>\n",
       "      <td>JO1'YOUNG (JO1 ver.)' PERFORMANCE VIDEO\\n\\n---...</td>\n",
       "      <td>youngVer&gt;&lt;  REN is really PERFECT. It's not ju...</td>\n",
       "    </tr>\n",
       "    <tr>\n",
       "      <th>4</th>\n",
       "      <td>--DKkzWVh-E</td>\n",
       "      <td>Why Retaining Walls Collapse</td>\n",
       "      <td>UCMOqf8ab-42UUQIdVoKwjlQ</td>\n",
       "      <td>Practical Engineering</td>\n",
       "      <td>2021-12-07 13:00:00</td>\n",
       "      <td>715724</td>\n",
       "      <td>32887</td>\n",
       "      <td>367</td>\n",
       "      <td>1067</td>\n",
       "      <td>retaining wall New Jersey highway Direct Conne...</td>\n",
       "      <td>One of the most important (and innocuous) part...</td>\n",
       "      <td>Keep up with all my projects here: https://pr...</td>\n",
       "    </tr>\n",
       "  </tbody>\n",
       "</table>\n",
       "</div>"
      ],
      "text/plain": [
       "      video_id                                       title  \\\n",
       "0  --0bCF-iK2E        Jadon Sancho  Magical Skills & Goals   \n",
       "1  --14w5SOEUs          Migos - Avalanche (Official Video)   \n",
       "2  --40TEbZ9Is  Supporting Actress in a Comedy: 73rd Emmys   \n",
       "3  --4tfbSyYDE     JO1'YOUNG (JO1 ver.)' PERFORMANCE VIDEO   \n",
       "4  --DKkzWVh-E                Why Retaining Walls Collapse   \n",
       "\n",
       "                 channel_id          channel_title         published_at  \\\n",
       "0  UC6UL29enLNe4mqwTfAyeNuw             Bundesliga  2021-07-01 10:00:00   \n",
       "1  UCGIelM2Dj3zza3xyV3pL3WQ              MigosVEVO  2021-06-10 16:00:00   \n",
       "2  UClBKH8yZRcM4AsRjDVEdjMg     Television Academy  2021-09-20 01:03:32   \n",
       "3  UCsmXiDP8S40uBeJYxvyulmA                    JO1  2021-03-03 10:00:17   \n",
       "4  UCMOqf8ab-42UUQIdVoKwjlQ  Practical Engineering  2021-12-07 13:00:00   \n",
       "\n",
       "   view_count   likes  dislikes  comment_count  \\\n",
       "0     1048888   19515       226           1319   \n",
       "1    15352638  359277      7479          18729   \n",
       "2      925281   11212       401            831   \n",
       "3     2641597   39131       441           3745   \n",
       "4      715724   32887       367           1067   \n",
       "\n",
       "                                                tags  \\\n",
       "0  football soccer ftbol alemn Bundesliga season ...   \n",
       "1  Migos Avalanche Quality Control Music/Motown R...   \n",
       "2                                                      \n",
       "3  PRODUCE101JAPAN              JO1   TheSTAR STA...   \n",
       "4  retaining wall New Jersey highway Direct Conne...   \n",
       "\n",
       "                                         description  \\\n",
       "0  Enjoy the best skills and goals from Jadon San...   \n",
       "1  Watch the the official video for Migos - \"Aval...   \n",
       "2  Hannah Waddingham wins the Emmy for Supporting...   \n",
       "3  JO1'YOUNG (JO1 ver.)' PERFORMANCE VIDEO\\n\\n---...   \n",
       "4  One of the most important (and innocuous) part...   \n",
       "\n",
       "                                            comments  \n",
       "0  Respect to Dortmund fans,must be sad losing hi...  \n",
       "1  Migos just makes me want to live my live to th...  \n",
       "2  Hannah's energy bursts through any screen. Wel...  \n",
       "3  youngVer><  REN is really PERFECT. It's not ju...  \n",
       "4   Keep up with all my projects here: https://pr...  "
      ]
     },
     "execution_count": 28,
     "metadata": {},
     "output_type": "execute_result"
    }
   ],
   "source": [
    " d1.head(5)# first 5 data is get using head function"
   ]
  },
  {
   "cell_type": "markdown",
   "id": "c2781215",
   "metadata": {},
   "source": [
    "**Retrieve bottom 5 records.**"
   ]
  },
  {
   "cell_type": "code",
   "execution_count": 29,
   "id": "736392c6",
   "metadata": {},
   "outputs": [
    {
     "data": {
      "text/html": [
       "<div>\n",
       "<style scoped>\n",
       "    .dataframe tbody tr th:only-of-type {\n",
       "        vertical-align: middle;\n",
       "    }\n",
       "\n",
       "    .dataframe tbody tr th {\n",
       "        vertical-align: top;\n",
       "    }\n",
       "\n",
       "    .dataframe thead th {\n",
       "        text-align: right;\n",
       "    }\n",
       "</style>\n",
       "<table border=\"1\" class=\"dataframe\">\n",
       "  <thead>\n",
       "    <tr style=\"text-align: right;\">\n",
       "      <th></th>\n",
       "      <th>video_id</th>\n",
       "      <th>title</th>\n",
       "      <th>channel_id</th>\n",
       "      <th>channel_title</th>\n",
       "      <th>published_at</th>\n",
       "      <th>view_count</th>\n",
       "      <th>likes</th>\n",
       "      <th>dislikes</th>\n",
       "      <th>comment_count</th>\n",
       "      <th>tags</th>\n",
       "      <th>description</th>\n",
       "      <th>comments</th>\n",
       "    </tr>\n",
       "  </thead>\n",
       "  <tbody>\n",
       "    <tr>\n",
       "      <th>37417</th>\n",
       "      <td>zzd4ydafGR0</td>\n",
       "      <td>Lil Tjay - Calling My Phone (feat. 6LACK) [Off...</td>\n",
       "      <td>UCEB4a5o_6KfjxHwNMnmj54Q</td>\n",
       "      <td>Lil Tjay</td>\n",
       "      <td>2021-02-12 05:03:49</td>\n",
       "      <td>120408275</td>\n",
       "      <td>2180780</td>\n",
       "      <td>35871</td>\n",
       "      <td>81360</td>\n",
       "      <td>Lil Tjay Steady Calling My Phone Calling My Ph...</td>\n",
       "      <td>Official video for \"Calling My Phone\" by Lil T...</td>\n",
       "      <td>'DESTINED 2 WIN' OUT NOW !! https://liltjay.ln...</td>\n",
       "    </tr>\n",
       "    <tr>\n",
       "      <th>37418</th>\n",
       "      <td>zziBybeSAtw</td>\n",
       "      <td>PELICANS at LAKERS | FULL GAME HIGHLIGHTS | Ja...</td>\n",
       "      <td>UCWJ2lWNubArHWmf3FIHbfcQ</td>\n",
       "      <td>NBA</td>\n",
       "      <td>2021-01-16 05:39:05</td>\n",
       "      <td>2841917</td>\n",
       "      <td>20759</td>\n",
       "      <td>1049</td>\n",
       "      <td>2624</td>\n",
       "      <td>NBA G League Basketball game-0022000187 Lakers...</td>\n",
       "      <td>PELICANS at LAKERS | FULL GAME HIGHLIGHTS | Ja...</td>\n",
       "      <td>Montrezl Harrell is going crazy with the rebou...</td>\n",
       "    </tr>\n",
       "    <tr>\n",
       "      <th>37419</th>\n",
       "      <td>zzk09ESX7e0</td>\n",
       "      <td>[MV]  (MAMAMOO) - Where Are We Now</td>\n",
       "      <td>UCuhAUMLzJxlP1W7mEk0_6lA</td>\n",
       "      <td>MAMAMOO</td>\n",
       "      <td>2021-06-02 09:00:10</td>\n",
       "      <td>13346678</td>\n",
       "      <td>720854</td>\n",
       "      <td>4426</td>\n",
       "      <td>90616</td>\n",
       "      <td>MAMAMOO  WAW  WAW MAMAMOO WAW Where Are We Now...</td>\n",
       "      <td>[MV]  (MAMAMOO) - Where Are We Now\\n\\nInstagra...</td>\n",
       "      <td>I honestly do not know why this song hit so ha...</td>\n",
       "    </tr>\n",
       "    <tr>\n",
       "      <th>37420</th>\n",
       "      <td>zzmQEb0Em5I</td>\n",
       "      <td>FELLIPE ESCUDERO- Master Podcast  #12</td>\n",
       "      <td>UC8NjnNWMsRqq11NYvHAQb1g</td>\n",
       "      <td>Master Podcast</td>\n",
       "      <td>2020-10-20 20:59:30</td>\n",
       "      <td>252057</td>\n",
       "      <td>19198</td>\n",
       "      <td>1234</td>\n",
       "      <td>1471</td>\n",
       "      <td>master masterpodcast lord lord vinheteiro z z ...</td>\n",
       "      <td>DOCTOR HAIR\\nhttps://www.thedoctorhair.com/?fb...</td>\n",
       "      <td>Foi um prazer passar esta tarde com vocs debat...</td>\n",
       "    </tr>\n",
       "    <tr>\n",
       "      <th>37421</th>\n",
       "      <td>zzxPZwaA-8w</td>\n",
       "      <td>Gareth Bale brace secures dramatic comeback on...</td>\n",
       "      <td>UCEg25rdRZXg32iwai6N6l0w</td>\n",
       "      <td>Tottenham Hotspur</td>\n",
       "      <td>2021-05-23 21:00:31</td>\n",
       "      <td>2252090</td>\n",
       "      <td>34063</td>\n",
       "      <td>868</td>\n",
       "      <td>2004</td>\n",
       "      <td>Spurs Tottenham Hotspur   Tottenham Leicester ...</td>\n",
       "      <td>Two minute highlights from Tottenham Hotspur's...</td>\n",
       "      <td>Thank you Kane for everything you have given t...</td>\n",
       "    </tr>\n",
       "  </tbody>\n",
       "</table>\n",
       "</div>"
      ],
      "text/plain": [
       "          video_id                                              title  \\\n",
       "37417  zzd4ydafGR0  Lil Tjay - Calling My Phone (feat. 6LACK) [Off...   \n",
       "37418  zziBybeSAtw  PELICANS at LAKERS | FULL GAME HIGHLIGHTS | Ja...   \n",
       "37419  zzk09ESX7e0                 [MV]  (MAMAMOO) - Where Are We Now   \n",
       "37420  zzmQEb0Em5I              FELLIPE ESCUDERO- Master Podcast  #12   \n",
       "37421  zzxPZwaA-8w  Gareth Bale brace secures dramatic comeback on...   \n",
       "\n",
       "                     channel_id      channel_title         published_at  \\\n",
       "37417  UCEB4a5o_6KfjxHwNMnmj54Q           Lil Tjay  2021-02-12 05:03:49   \n",
       "37418  UCWJ2lWNubArHWmf3FIHbfcQ                NBA  2021-01-16 05:39:05   \n",
       "37419  UCuhAUMLzJxlP1W7mEk0_6lA            MAMAMOO  2021-06-02 09:00:10   \n",
       "37420  UC8NjnNWMsRqq11NYvHAQb1g     Master Podcast  2020-10-20 20:59:30   \n",
       "37421  UCEg25rdRZXg32iwai6N6l0w  Tottenham Hotspur  2021-05-23 21:00:31   \n",
       "\n",
       "       view_count    likes  dislikes  comment_count  \\\n",
       "37417   120408275  2180780     35871          81360   \n",
       "37418     2841917    20759      1049           2624   \n",
       "37419    13346678   720854      4426          90616   \n",
       "37420      252057    19198      1234           1471   \n",
       "37421     2252090    34063       868           2004   \n",
       "\n",
       "                                                    tags  \\\n",
       "37417  Lil Tjay Steady Calling My Phone Calling My Ph...   \n",
       "37418  NBA G League Basketball game-0022000187 Lakers...   \n",
       "37419  MAMAMOO  WAW  WAW MAMAMOO WAW Where Are We Now...   \n",
       "37420  master masterpodcast lord lord vinheteiro z z ...   \n",
       "37421  Spurs Tottenham Hotspur   Tottenham Leicester ...   \n",
       "\n",
       "                                             description  \\\n",
       "37417  Official video for \"Calling My Phone\" by Lil T...   \n",
       "37418  PELICANS at LAKERS | FULL GAME HIGHLIGHTS | Ja...   \n",
       "37419  [MV]  (MAMAMOO) - Where Are We Now\\n\\nInstagra...   \n",
       "37420  DOCTOR HAIR\\nhttps://www.thedoctorhair.com/?fb...   \n",
       "37421  Two minute highlights from Tottenham Hotspur's...   \n",
       "\n",
       "                                                comments  \n",
       "37417  'DESTINED 2 WIN' OUT NOW !! https://liltjay.ln...  \n",
       "37418  Montrezl Harrell is going crazy with the rebou...  \n",
       "37419  I honestly do not know why this song hit so ha...  \n",
       "37420  Foi um prazer passar esta tarde com vocs debat...  \n",
       "37421  Thank you Kane for everything you have given t...  "
      ]
     },
     "execution_count": 29,
     "metadata": {},
     "output_type": "execute_result"
    }
   ],
   "source": [
    " d1.tail(5)# get last 5 data using tail function"
   ]
  },
  {
   "cell_type": "markdown",
   "id": "ffad2521",
   "metadata": {},
   "source": [
    "**2. Check the info of the dataframe and write your inferences on data types and shape of the dataset.**"
   ]
  },
  {
   "cell_type": "code",
   "execution_count": 30,
   "id": "66bdcf66",
   "metadata": {},
   "outputs": [
    {
     "name": "stdout",
     "output_type": "stream",
     "text": [
      "<class 'pandas.core.frame.DataFrame'>\n",
      "RangeIndex: 37422 entries, 0 to 37421\n",
      "Data columns (total 12 columns):\n",
      " #   Column         Non-Null Count  Dtype \n",
      "---  ------         --------------  ----- \n",
      " 0   video_id       37422 non-null  object\n",
      " 1   title          37422 non-null  object\n",
      " 2   channel_id     37422 non-null  object\n",
      " 3   channel_title  37422 non-null  object\n",
      " 4   published_at   37422 non-null  object\n",
      " 5   view_count     37422 non-null  int64 \n",
      " 6   likes          37422 non-null  int64 \n",
      " 7   dislikes       37422 non-null  int64 \n",
      " 8   comment_count  37422 non-null  int64 \n",
      " 9   tags           37422 non-null  object\n",
      " 10  description    37422 non-null  object\n",
      " 11  comments       37264 non-null  object\n",
      "dtypes: int64(4), object(8)\n",
      "memory usage: 3.4+ MB\n"
     ]
    }
   ],
   "source": [
    "d1.info()"
   ]
  },
  {
   "cell_type": "markdown",
   "id": "89d4d477",
   "metadata": {},
   "source": [
    "INFERENCE:\n",
    "    \n",
    "    * Here,info() function of pandas is used to get information about dataframe.\n",
    "    * info() function gives a information about dataframe datatypes,memory usage.\n",
    "    * There are four interger datatype column.\n",
    "    * Eight object datatype column.\n",
    "    * Memory usage is above 3.4 MB.\n",
    "    * 12 columns.\n",
    "    * 37422 rows.\n",
    "        "
   ]
  },
  {
   "cell_type": "code",
   "execution_count": 31,
   "id": "a185d95d",
   "metadata": {},
   "outputs": [
    {
     "data": {
      "text/plain": [
       "(37422, 12)"
      ]
     },
     "execution_count": 31,
     "metadata": {},
     "output_type": "execute_result"
    }
   ],
   "source": [
    "d1.shape"
   ]
  },
  {
   "cell_type": "markdown",
   "id": "ed82b0af",
   "metadata": {},
   "source": [
    "INFERENCE:\n",
    "    \n",
    "* shape shows how many rows and columns for given data.    \n",
    "* Dataset has 37422 rows and 12 columns."
   ]
  },
  {
   "cell_type": "markdown",
   "id": "13136f9d",
   "metadata": {},
   "source": [
    "**3. Check for the Percentage of the missing values and drop or impute them.**"
   ]
  },
  {
   "cell_type": "code",
   "execution_count": 32,
   "id": "4c919002",
   "metadata": {},
   "outputs": [
    {
     "data": {
      "text/plain": [
       "video_id         0.00\n",
       "title            0.00\n",
       "channel_id       0.00\n",
       "channel_title    0.00\n",
       "published_at     0.00\n",
       "view_count       0.00\n",
       "likes            0.00\n",
       "dislikes         0.00\n",
       "comment_count    0.00\n",
       "tags             0.00\n",
       "description      0.00\n",
       "comments         0.42\n",
       "dtype: float64"
      ]
     },
     "execution_count": 32,
     "metadata": {},
     "output_type": "execute_result"
    }
   ],
   "source": [
    "round(d1.isnull().sum()/len(d1)*100,2)"
   ]
  },
  {
   "cell_type": "markdown",
   "id": "e8f6f857",
   "metadata": {},
   "source": [
    "INFERENCE:\n",
    "\n",
    "* we use .isnull()function to check null values\n",
    "* .sum() function is used to get of sum of values\n",
    "*  len(d1)get number of data/values in dataframe\n",
    "*  Here video_id ,title, channel_title,comments,description,tags are have null values\n",
    "*  we get a percentage of null values at each columns as sum of null values is divided by number of columns and multiplied by 100.\n",
    "*  All the values are returned as float type.\n",
    "\n",
    "**Therefore, we observe that 0.42% of records in column records is null.**\n"
   ]
  },
  {
   "cell_type": "markdown",
   "id": "d3d1b697",
   "metadata": {},
   "source": [
    "Droping a null value"
   ]
  },
  {
   "cell_type": "code",
   "execution_count": 33,
   "id": "0aae3461",
   "metadata": {},
   "outputs": [],
   "source": [
    "d1=d1.dropna() #removing null values"
   ]
  },
  {
   "cell_type": "markdown",
   "id": "16474930",
   "metadata": {},
   "source": [
    "Using dropna()function, all the null values are removed"
   ]
  },
  {
   "cell_type": "code",
   "execution_count": 34,
   "id": "d8f7572a",
   "metadata": {},
   "outputs": [
    {
     "data": {
      "text/plain": [
       "(37264, 12)"
      ]
     },
     "execution_count": 34,
     "metadata": {},
     "output_type": "execute_result"
    }
   ],
   "source": [
    "d1.shape"
   ]
  },
  {
   "cell_type": "markdown",
   "id": "3a001d7e",
   "metadata": {},
   "source": [
    "After all null values are removed the shape of dataframe as 36790 rows and 12 columns"
   ]
  },
  {
   "cell_type": "markdown",
   "id": "d167821a",
   "metadata": {},
   "source": [
    "INFERENCE:\n",
    "    \n",
    "* After observing percentage of null values.\n",
    "* Removing a null values.\n",
    "* Then, check the shape of data after clearing null values."
   ]
  },
  {
   "cell_type": "markdown",
   "id": "343dc7b4",
   "metadata": {},
   "source": [
    "**4. Check the statistical summary of both numerical and categorical columns and write your inferences.**"
   ]
  },
  {
   "cell_type": "code",
   "execution_count": 35,
   "id": "21810e04",
   "metadata": {},
   "outputs": [
    {
     "data": {
      "text/html": [
       "<div>\n",
       "<style scoped>\n",
       "    .dataframe tbody tr th:only-of-type {\n",
       "        vertical-align: middle;\n",
       "    }\n",
       "\n",
       "    .dataframe tbody tr th {\n",
       "        vertical-align: top;\n",
       "    }\n",
       "\n",
       "    .dataframe thead th {\n",
       "        text-align: right;\n",
       "    }\n",
       "</style>\n",
       "<table border=\"1\" class=\"dataframe\">\n",
       "  <thead>\n",
       "    <tr style=\"text-align: right;\">\n",
       "      <th></th>\n",
       "      <th>view_count</th>\n",
       "      <th>likes</th>\n",
       "      <th>dislikes</th>\n",
       "      <th>comment_count</th>\n",
       "    </tr>\n",
       "  </thead>\n",
       "  <tbody>\n",
       "    <tr>\n",
       "      <th>count</th>\n",
       "      <td>3.726400e+04</td>\n",
       "      <td>3.726400e+04</td>\n",
       "      <td>3.726400e+04</td>\n",
       "      <td>3.726400e+04</td>\n",
       "    </tr>\n",
       "    <tr>\n",
       "      <th>mean</th>\n",
       "      <td>5.710821e+06</td>\n",
       "      <td>1.672867e+05</td>\n",
       "      <td>4.996434e+03</td>\n",
       "      <td>9.966953e+03</td>\n",
       "    </tr>\n",
       "    <tr>\n",
       "      <th>std</th>\n",
       "      <td>2.431304e+07</td>\n",
       "      <td>5.384931e+05</td>\n",
       "      <td>3.075194e+04</td>\n",
       "      <td>1.173465e+05</td>\n",
       "    </tr>\n",
       "    <tr>\n",
       "      <th>min</th>\n",
       "      <td>2.036800e+04</td>\n",
       "      <td>2.200000e+01</td>\n",
       "      <td>3.000000e+00</td>\n",
       "      <td>1.000000e+00</td>\n",
       "    </tr>\n",
       "    <tr>\n",
       "      <th>25%</th>\n",
       "      <td>5.141305e+05</td>\n",
       "      <td>1.331725e+04</td>\n",
       "      <td>2.827500e+02</td>\n",
       "      <td>9.140000e+02</td>\n",
       "    </tr>\n",
       "    <tr>\n",
       "      <th>50%</th>\n",
       "      <td>1.321860e+06</td>\n",
       "      <td>4.255600e+04</td>\n",
       "      <td>7.980000e+02</td>\n",
       "      <td>2.347000e+03</td>\n",
       "    </tr>\n",
       "    <tr>\n",
       "      <th>75%</th>\n",
       "      <td>3.674527e+06</td>\n",
       "      <td>1.309665e+05</td>\n",
       "      <td>2.466250e+03</td>\n",
       "      <td>6.212000e+03</td>\n",
       "    </tr>\n",
       "    <tr>\n",
       "      <th>max</th>\n",
       "      <td>1.322797e+09</td>\n",
       "      <td>3.183768e+07</td>\n",
       "      <td>2.397733e+06</td>\n",
       "      <td>1.607103e+07</td>\n",
       "    </tr>\n",
       "  </tbody>\n",
       "</table>\n",
       "</div>"
      ],
      "text/plain": [
       "         view_count         likes      dislikes  comment_count\n",
       "count  3.726400e+04  3.726400e+04  3.726400e+04   3.726400e+04\n",
       "mean   5.710821e+06  1.672867e+05  4.996434e+03   9.966953e+03\n",
       "std    2.431304e+07  5.384931e+05  3.075194e+04   1.173465e+05\n",
       "min    2.036800e+04  2.200000e+01  3.000000e+00   1.000000e+00\n",
       "25%    5.141305e+05  1.331725e+04  2.827500e+02   9.140000e+02\n",
       "50%    1.321860e+06  4.255600e+04  7.980000e+02   2.347000e+03\n",
       "75%    3.674527e+06  1.309665e+05  2.466250e+03   6.212000e+03\n",
       "max    1.322797e+09  3.183768e+07  2.397733e+06   1.607103e+07"
      ]
     },
     "execution_count": 35,
     "metadata": {},
     "output_type": "execute_result"
    }
   ],
   "source": [
    "d1.describe()# for statistical analysis"
   ]
  },
  {
   "cell_type": "markdown",
   "id": "7098ea13",
   "metadata": {},
   "source": [
    "**INFERENCE:**\n",
    "\n",
    "* Using describe()function all statistical information are get.\n",
    "\n",
    "* It's works only in numerical data not in categorical data.\n",
    "\n",
    "**It gives:**\n",
    "    \n",
    "* Data count.\n",
    "* Data mean > view_count has higher mean value than others.\n",
    "* Data standard diviation(Std) => likes has higher standard diviation among others.\n",
    "* Data minimum value => among all comment_count has lowest value.\n",
    "* Quartile 1(25%) => comment_count has high value.\n",
    "* Quartile 2(50%) => dislikes has high value.\n",
    "* Quartile 3(75%) => comment_count has high value.\n",
    "* Data maximum value => likes has highest maximum value. \n",
    "* Likes has large among all of the other data.\n"
   ]
  },
  {
   "cell_type": "code",
   "execution_count": 36,
   "id": "c01f3203",
   "metadata": {},
   "outputs": [
    {
     "data": {
      "text/html": [
       "<div>\n",
       "<style scoped>\n",
       "    .dataframe tbody tr th:only-of-type {\n",
       "        vertical-align: middle;\n",
       "    }\n",
       "\n",
       "    .dataframe tbody tr th {\n",
       "        vertical-align: top;\n",
       "    }\n",
       "\n",
       "    .dataframe thead th {\n",
       "        text-align: right;\n",
       "    }\n",
       "</style>\n",
       "<table border=\"1\" class=\"dataframe\">\n",
       "  <thead>\n",
       "    <tr style=\"text-align: right;\">\n",
       "      <th></th>\n",
       "      <th>video_id</th>\n",
       "      <th>title</th>\n",
       "      <th>channel_id</th>\n",
       "      <th>channel_title</th>\n",
       "      <th>published_at</th>\n",
       "      <th>tags</th>\n",
       "      <th>description</th>\n",
       "      <th>comments</th>\n",
       "    </tr>\n",
       "  </thead>\n",
       "  <tbody>\n",
       "    <tr>\n",
       "      <th>count</th>\n",
       "      <td>37264</td>\n",
       "      <td>37264</td>\n",
       "      <td>37264</td>\n",
       "      <td>37264</td>\n",
       "      <td>37264</td>\n",
       "      <td>37264</td>\n",
       "      <td>37264</td>\n",
       "      <td>37264</td>\n",
       "    </tr>\n",
       "    <tr>\n",
       "      <th>unique</th>\n",
       "      <td>37264</td>\n",
       "      <td>36958</td>\n",
       "      <td>10891</td>\n",
       "      <td>10813</td>\n",
       "      <td>36617</td>\n",
       "      <td>28705</td>\n",
       "      <td>35479</td>\n",
       "      <td>37264</td>\n",
       "    </tr>\n",
       "    <tr>\n",
       "      <th>top</th>\n",
       "      <td>--0bCF-iK2E</td>\n",
       "      <td>www</td>\n",
       "      <td>UCNAf1k0yIjyGu3k9BwAg3lg</td>\n",
       "      <td>Sky Sports Football</td>\n",
       "      <td>2020-10-16 04:00:10</td>\n",
       "      <td></td>\n",
       "      <td></td>\n",
       "      <td>Respect to Dortmund fans,must be sad losing hi...</td>\n",
       "    </tr>\n",
       "    <tr>\n",
       "      <th>freq</th>\n",
       "      <td>1</td>\n",
       "      <td>21</td>\n",
       "      <td>533</td>\n",
       "      <td>533</td>\n",
       "      <td>6</td>\n",
       "      <td>3808</td>\n",
       "      <td>587</td>\n",
       "      <td>1</td>\n",
       "    </tr>\n",
       "  </tbody>\n",
       "</table>\n",
       "</div>"
      ],
      "text/plain": [
       "           video_id  title                channel_id        channel_title  \\\n",
       "count         37264  37264                     37264                37264   \n",
       "unique        37264  36958                     10891                10813   \n",
       "top     --0bCF-iK2E    www  UCNAf1k0yIjyGu3k9BwAg3lg  Sky Sports Football   \n",
       "freq              1     21                       533                  533   \n",
       "\n",
       "               published_at   tags description  \\\n",
       "count                 37264  37264       37264   \n",
       "unique                36617  28705       35479   \n",
       "top     2020-10-16 04:00:10                      \n",
       "freq                      6   3808         587   \n",
       "\n",
       "                                                 comments  \n",
       "count                                               37264  \n",
       "unique                                              37264  \n",
       "top     Respect to Dortmund fans,must be sad losing hi...  \n",
       "freq                                                    1  "
      ]
     },
     "execution_count": 36,
     "metadata": {},
     "output_type": "execute_result"
    }
   ],
   "source": [
    "d1.describe(include='O')"
   ]
  },
  {
   "cell_type": "markdown",
   "id": "bb6c9aa1",
   "metadata": {},
   "source": [
    "**INFERENCE:**\n",
    "\n",
    "* In pandas, df.describe(include='O') is used to get the summary statistics specifically for the columns with object (string) data type in the DataFrame. \n",
    "* It provides information such as the count, unique, top (most frequent value), and frequency of the top value for each object column.\n",
    "* We can observe that the maximum view count is around one Billion.\n",
    "* The average likes around 1.5 lakhs.\n",
    "* The average dislikes around Five thousand.\n",
    "* Sky sports Football channel has the top frequency having 529 instances in the dataset."
   ]
  },
  {
   "cell_type": "markdown",
   "id": "ee5b0be4",
   "metadata": {},
   "source": [
    "**5. Convert datatype of column published_at from object to pandas datetime.**"
   ]
  },
  {
   "cell_type": "code",
   "execution_count": 89,
   "id": "0aab7834",
   "metadata": {},
   "outputs": [],
   "source": [
    "d1['published_at']=pd.to_datetime(d1['published_at'])"
   ]
  },
  {
   "cell_type": "markdown",
   "id": "2c924e7e",
   "metadata": {},
   "source": [
    "published_at datatype is converted to datetime datatype"
   ]
  },
  {
   "cell_type": "code",
   "execution_count": 90,
   "id": "940da08e",
   "metadata": {},
   "outputs": [
    {
     "name": "stdout",
     "output_type": "stream",
     "text": [
      "<class 'pandas.core.series.Series'>\n",
      "Int64Index: 37264 entries, 0 to 37421\n",
      "Series name: published_at\n",
      "Non-Null Count  Dtype         \n",
      "--------------  -----         \n",
      "37264 non-null  datetime64[ns]\n",
      "dtypes: datetime64[ns](1)\n",
      "memory usage: 582.2 KB\n"
     ]
    }
   ],
   "source": [
    "d1['published_at'].info()"
   ]
  },
  {
   "cell_type": "markdown",
   "id": "2478825e",
   "metadata": {},
   "source": [
    "**INFERENCE:**\n",
    "\n",
    "* By using pandas library pd.to_datetime()function is used to change a datatype of 'published_at' from object to datetime.\n",
    "* By using info()function we check, whether data type is changed or not.\n",
    "* It shows that 'published_at'datatype as datetime.\n",
    "* Here, we observe that datatype of 'published_at'is converted into datetime datatype."
   ]
  },
  {
   "cell_type": "markdown",
   "id": "b53e17fe",
   "metadata": {},
   "source": [
    "**6. Create a new column as 'published_month' using the column published_at (display the months only)**"
   ]
  },
  {
   "cell_type": "markdown",
   "id": "ed5fba26",
   "metadata": {},
   "source": [
    "Two methods of getting output"
   ]
  },
  {
   "cell_type": "code",
   "execution_count": 82,
   "id": "1df91fa5",
   "metadata": {},
   "outputs": [
    {
     "name": "stderr",
     "output_type": "stream",
     "text": [
      "C:\\Users\\lenovo\\AppData\\Local\\Temp\\ipykernel_12920\\1245254921.py:2: SettingWithCopyWarning: \n",
      "A value is trying to be set on a copy of a slice from a DataFrame.\n",
      "Try using .loc[row_indexer,col_indexer] = value instead\n",
      "\n",
      "See the caveats in the documentation: https://pandas.pydata.org/pandas-docs/stable/user_guide/indexing.html#returning-a-view-versus-a-copy\n",
      "  d1['published_month']=d1['published_at'].str[5:7]\n"
     ]
    },
    {
     "data": {
      "text/html": [
       "<div>\n",
       "<style scoped>\n",
       "    .dataframe tbody tr th:only-of-type {\n",
       "        vertical-align: middle;\n",
       "    }\n",
       "\n",
       "    .dataframe tbody tr th {\n",
       "        vertical-align: top;\n",
       "    }\n",
       "\n",
       "    .dataframe thead th {\n",
       "        text-align: right;\n",
       "    }\n",
       "</style>\n",
       "<table border=\"1\" class=\"dataframe\">\n",
       "  <thead>\n",
       "    <tr style=\"text-align: right;\">\n",
       "      <th></th>\n",
       "      <th>published_month</th>\n",
       "    </tr>\n",
       "  </thead>\n",
       "  <tbody>\n",
       "    <tr>\n",
       "      <th>0</th>\n",
       "      <td>07</td>\n",
       "    </tr>\n",
       "    <tr>\n",
       "      <th>1</th>\n",
       "      <td>06</td>\n",
       "    </tr>\n",
       "    <tr>\n",
       "      <th>2</th>\n",
       "      <td>09</td>\n",
       "    </tr>\n",
       "    <tr>\n",
       "      <th>3</th>\n",
       "      <td>03</td>\n",
       "    </tr>\n",
       "    <tr>\n",
       "      <th>4</th>\n",
       "      <td>12</td>\n",
       "    </tr>\n",
       "    <tr>\n",
       "      <th>...</th>\n",
       "      <td>...</td>\n",
       "    </tr>\n",
       "    <tr>\n",
       "      <th>37417</th>\n",
       "      <td>02</td>\n",
       "    </tr>\n",
       "    <tr>\n",
       "      <th>37418</th>\n",
       "      <td>01</td>\n",
       "    </tr>\n",
       "    <tr>\n",
       "      <th>37419</th>\n",
       "      <td>06</td>\n",
       "    </tr>\n",
       "    <tr>\n",
       "      <th>37420</th>\n",
       "      <td>10</td>\n",
       "    </tr>\n",
       "    <tr>\n",
       "      <th>37421</th>\n",
       "      <td>05</td>\n",
       "    </tr>\n",
       "  </tbody>\n",
       "</table>\n",
       "<p>37264 rows × 1 columns</p>\n",
       "</div>"
      ],
      "text/plain": [
       "      published_month\n",
       "0                  07\n",
       "1                  06\n",
       "2                  09\n",
       "3                  03\n",
       "4                  12\n",
       "...               ...\n",
       "37417              02\n",
       "37418              01\n",
       "37419              06\n",
       "37420              10\n",
       "37421              05\n",
       "\n",
       "[37264 rows x 1 columns]"
      ]
     },
     "execution_count": 82,
     "metadata": {},
     "output_type": "execute_result"
    }
   ],
   "source": [
    "#new column is created\n",
    "#d1['published_month']=d1['published_at'].str[5:7]\n",
    "#d1[['published_month']]"
   ]
  },
  {
   "cell_type": "markdown",
   "id": "f22834c0",
   "metadata": {},
   "source": [
    "**INFERENCE:**\n",
    "    \n",
    "    * Here, output is returned by retrieving a month by using slicing method."
   ]
  },
  {
   "cell_type": "code",
   "execution_count": 91,
   "id": "30dc823b",
   "metadata": {},
   "outputs": [
    {
     "name": "stderr",
     "output_type": "stream",
     "text": [
      "C:\\Users\\lenovo\\AppData\\Local\\Temp\\ipykernel_12920\\1412783885.py:1: SettingWithCopyWarning: \n",
      "A value is trying to be set on a copy of a slice from a DataFrame.\n",
      "Try using .loc[row_indexer,col_indexer] = value instead\n",
      "\n",
      "See the caveats in the documentation: https://pandas.pydata.org/pandas-docs/stable/user_guide/indexing.html#returning-a-view-versus-a-copy\n",
      "  d1['published_month'] = d1['published_at'].dt.month\n"
     ]
    }
   ],
   "source": [
    "d1['published_month'] = d1['published_at'].dt.month"
   ]
  },
  {
   "cell_type": "code",
   "execution_count": null,
   "id": "d2bb0650",
   "metadata": {},
   "outputs": [],
   "source": [
    "# warnings.filterwarnings('ignore')\n",
    "used to reglect warnings, this kind of warnings.\n"
   ]
  },
  {
   "cell_type": "markdown",
   "id": "a6efc2a4",
   "metadata": {},
   "source": [
    "New column publised_month is fomed using published_at column"
   ]
  },
  {
   "cell_type": "code",
   "execution_count": 92,
   "id": "eb9a9ca4",
   "metadata": {},
   "outputs": [
    {
     "data": {
      "text/html": [
       "<div>\n",
       "<style scoped>\n",
       "    .dataframe tbody tr th:only-of-type {\n",
       "        vertical-align: middle;\n",
       "    }\n",
       "\n",
       "    .dataframe tbody tr th {\n",
       "        vertical-align: top;\n",
       "    }\n",
       "\n",
       "    .dataframe thead th {\n",
       "        text-align: right;\n",
       "    }\n",
       "</style>\n",
       "<table border=\"1\" class=\"dataframe\">\n",
       "  <thead>\n",
       "    <tr style=\"text-align: right;\">\n",
       "      <th></th>\n",
       "      <th>video_id</th>\n",
       "      <th>title</th>\n",
       "      <th>channel_id</th>\n",
       "      <th>channel_title</th>\n",
       "      <th>published_at</th>\n",
       "      <th>view_count</th>\n",
       "      <th>likes</th>\n",
       "      <th>dislikes</th>\n",
       "      <th>comment_count</th>\n",
       "      <th>tags</th>\n",
       "      <th>description</th>\n",
       "      <th>comments</th>\n",
       "      <th>publishe_at</th>\n",
       "      <th>Published_month</th>\n",
       "      <th>published_month</th>\n",
       "    </tr>\n",
       "  </thead>\n",
       "  <tbody>\n",
       "    <tr>\n",
       "      <th>0</th>\n",
       "      <td>--0bCF-iK2E</td>\n",
       "      <td>Jadon Sancho  Magical Skills &amp; Goals</td>\n",
       "      <td>UC6UL29enLNe4mqwTfAyeNuw</td>\n",
       "      <td>Bundesliga</td>\n",
       "      <td>2021-07-01 10:00:00</td>\n",
       "      <td>1048888</td>\n",
       "      <td>19515</td>\n",
       "      <td>226</td>\n",
       "      <td>1319</td>\n",
       "      <td>football soccer ftbol alemn Bundesliga season ...</td>\n",
       "      <td>Enjoy the best skills and goals from Jadon San...</td>\n",
       "      <td>Respect to Dortmund fans,must be sad losing hi...</td>\n",
       "      <td>2021-07-01 10:00:00</td>\n",
       "      <td>07</td>\n",
       "      <td>7</td>\n",
       "    </tr>\n",
       "    <tr>\n",
       "      <th>1</th>\n",
       "      <td>--14w5SOEUs</td>\n",
       "      <td>Migos - Avalanche (Official Video)</td>\n",
       "      <td>UCGIelM2Dj3zza3xyV3pL3WQ</td>\n",
       "      <td>MigosVEVO</td>\n",
       "      <td>2021-06-10 16:00:00</td>\n",
       "      <td>15352638</td>\n",
       "      <td>359277</td>\n",
       "      <td>7479</td>\n",
       "      <td>18729</td>\n",
       "      <td>Migos Avalanche Quality Control Music/Motown R...</td>\n",
       "      <td>Watch the the official video for Migos - \"Aval...</td>\n",
       "      <td>Migos just makes me want to live my live to th...</td>\n",
       "      <td>2021-06-10 16:00:00</td>\n",
       "      <td>06</td>\n",
       "      <td>6</td>\n",
       "    </tr>\n",
       "    <tr>\n",
       "      <th>2</th>\n",
       "      <td>--40TEbZ9Is</td>\n",
       "      <td>Supporting Actress in a Comedy: 73rd Emmys</td>\n",
       "      <td>UClBKH8yZRcM4AsRjDVEdjMg</td>\n",
       "      <td>Television Academy</td>\n",
       "      <td>2021-09-20 01:03:32</td>\n",
       "      <td>925281</td>\n",
       "      <td>11212</td>\n",
       "      <td>401</td>\n",
       "      <td>831</td>\n",
       "      <td></td>\n",
       "      <td>Hannah Waddingham wins the Emmy for Supporting...</td>\n",
       "      <td>Hannah's energy bursts through any screen. Wel...</td>\n",
       "      <td>2021-09-20 01:03:32</td>\n",
       "      <td>09</td>\n",
       "      <td>9</td>\n",
       "    </tr>\n",
       "    <tr>\n",
       "      <th>3</th>\n",
       "      <td>--4tfbSyYDE</td>\n",
       "      <td>JO1'YOUNG (JO1 ver.)' PERFORMANCE VIDEO</td>\n",
       "      <td>UCsmXiDP8S40uBeJYxvyulmA</td>\n",
       "      <td>JO1</td>\n",
       "      <td>2021-03-03 10:00:17</td>\n",
       "      <td>2641597</td>\n",
       "      <td>39131</td>\n",
       "      <td>441</td>\n",
       "      <td>3745</td>\n",
       "      <td>PRODUCE101JAPAN              JO1   TheSTAR STA...</td>\n",
       "      <td>JO1'YOUNG (JO1 ver.)' PERFORMANCE VIDEO\\n\\n---...</td>\n",
       "      <td>youngVer&gt;&lt;  REN is really PERFECT. It's not ju...</td>\n",
       "      <td>2021-03-03 10:00:17</td>\n",
       "      <td>03</td>\n",
       "      <td>3</td>\n",
       "    </tr>\n",
       "  </tbody>\n",
       "</table>\n",
       "</div>"
      ],
      "text/plain": [
       "      video_id                                       title  \\\n",
       "0  --0bCF-iK2E        Jadon Sancho  Magical Skills & Goals   \n",
       "1  --14w5SOEUs          Migos - Avalanche (Official Video)   \n",
       "2  --40TEbZ9Is  Supporting Actress in a Comedy: 73rd Emmys   \n",
       "3  --4tfbSyYDE     JO1'YOUNG (JO1 ver.)' PERFORMANCE VIDEO   \n",
       "\n",
       "                 channel_id       channel_title        published_at  \\\n",
       "0  UC6UL29enLNe4mqwTfAyeNuw          Bundesliga 2021-07-01 10:00:00   \n",
       "1  UCGIelM2Dj3zza3xyV3pL3WQ           MigosVEVO 2021-06-10 16:00:00   \n",
       "2  UClBKH8yZRcM4AsRjDVEdjMg  Television Academy 2021-09-20 01:03:32   \n",
       "3  UCsmXiDP8S40uBeJYxvyulmA                 JO1 2021-03-03 10:00:17   \n",
       "\n",
       "   view_count   likes  dislikes  comment_count  \\\n",
       "0     1048888   19515       226           1319   \n",
       "1    15352638  359277      7479          18729   \n",
       "2      925281   11212       401            831   \n",
       "3     2641597   39131       441           3745   \n",
       "\n",
       "                                                tags  \\\n",
       "0  football soccer ftbol alemn Bundesliga season ...   \n",
       "1  Migos Avalanche Quality Control Music/Motown R...   \n",
       "2                                                      \n",
       "3  PRODUCE101JAPAN              JO1   TheSTAR STA...   \n",
       "\n",
       "                                         description  \\\n",
       "0  Enjoy the best skills and goals from Jadon San...   \n",
       "1  Watch the the official video for Migos - \"Aval...   \n",
       "2  Hannah Waddingham wins the Emmy for Supporting...   \n",
       "3  JO1'YOUNG (JO1 ver.)' PERFORMANCE VIDEO\\n\\n---...   \n",
       "\n",
       "                                            comments         publishe_at  \\\n",
       "0  Respect to Dortmund fans,must be sad losing hi... 2021-07-01 10:00:00   \n",
       "1  Migos just makes me want to live my live to th... 2021-06-10 16:00:00   \n",
       "2  Hannah's energy bursts through any screen. Wel... 2021-09-20 01:03:32   \n",
       "3  youngVer><  REN is really PERFECT. It's not ju... 2021-03-03 10:00:17   \n",
       "\n",
       "  Published_month  published_month  \n",
       "0              07                7  \n",
       "1              06                6  \n",
       "2              09                9  \n",
       "3              03                3  "
      ]
     },
     "execution_count": 92,
     "metadata": {},
     "output_type": "execute_result"
    }
   ],
   "source": [
    "d1.head(4)"
   ]
  },
  {
   "cell_type": "markdown",
   "id": "b9400c51",
   "metadata": {},
   "source": [
    "**INFERENCE:**\n",
    "    \n",
    "* First give a name for newly creating columns and then assigned published_at columns with newly creating column variable name.\n",
    "* The code you provided adds a new column called 'published_month' to the DataFrame 'd1'. This new column contains the month component of the 'published_at' column, which was previously converted to the datetime data type using pd.to_datetime().\n",
    "* The .dt.month attribute allows you to access the month component of a datetime Series. It returns an integer representation of the month, where January is represented as 1, February as 2, and so on, up to December, which is represented as 12."
   ]
  },
  {
   "cell_type": "markdown",
   "id": "8e5c73bb",
   "metadata": {},
   "source": [
    "**7. Replace the numbers in the column published_month as names of the months i,e., 1 as 'Jan', 2 as 'Feb'and so on.....**"
   ]
  },
  {
   "cell_type": "code",
   "execution_count": 98,
   "id": "41e863ba",
   "metadata": {},
   "outputs": [],
   "source": [
    "d1['published_month'] = d1['published_month'].replace({1:'Jan', 2:'Feb', 3:'March', 4:'April', 5:'May', 6:'June',\n",
    "                                                     7:'July', 8:'Aug', 9:'Sep', 10:'Oct', 11:'Nov', 12:'Dec'})\n",
    "#assigned a categorial value for numberical value in 'published_month' column\n",
    "#assigned 1 as jan,2 as feb etc.."
   ]
  },
  {
   "cell_type": "code",
   "execution_count": 96,
   "id": "e5335cc1",
   "metadata": {},
   "outputs": [
    {
     "data": {
      "text/plain": [
       "0     July\n",
       "1     June\n",
       "2      Sep\n",
       "3    March\n",
       "4      Dec\n",
       "Name: published_month, dtype: object"
      ]
     },
     "execution_count": 96,
     "metadata": {},
     "output_type": "execute_result"
    }
   ],
   "source": [
    "\n",
    "d1['published_month'].head(5)"
   ]
  },
  {
   "cell_type": "markdown",
   "id": "7b65d8c5",
   "metadata": {},
   "source": [
    "**INFERENCE:**\n",
    "   \n",
    "* In newly created column 'published_month',all the numerical values (1,2,3 etc..)are replaced as jan,feb etc..\n",
    "* For done this .replace()function is used and assigned a numerical : categorical value.\n",
    "* For observe purpose we, get a first five columns using head()function."
   ]
  },
  {
   "cell_type": "markdown",
   "id": "3a7c6722",
   "metadata": {},
   "source": [
    "**8. Find the number of videos published each month and arrange the months in a decreasing order based on the video count.**"
   ]
  },
  {
   "cell_type": "code",
   "execution_count": 99,
   "id": "61ed8f50",
   "metadata": {},
   "outputs": [
    {
     "data": {
      "text/plain": [
       "published_month\n",
       "Oct      4976\n",
       "Sep      4854\n",
       "Nov      4821\n",
       "Aug      4250\n",
       "Dec      3063\n",
       "July     2331\n",
       "June     2305\n",
       "March    2248\n",
       "Feb      2125\n",
       "April    2119\n",
       "Name: video_id, dtype: int64"
      ]
     },
     "execution_count": 99,
     "metadata": {},
     "output_type": "execute_result"
    }
   ],
   "source": [
    "d1.groupby('published_month')['video_id'].count().sort_values(ascending = False).head(10)"
   ]
  },
  {
   "cell_type": "markdown",
   "id": "9f1a368f",
   "metadata": {},
   "source": [
    "**INFERENCE:**\n",
    "    \n",
    "* For getting value number of videos published each month,groupby function is used.\n",
    "* It takes two required column 'published_month'and 'video_id'.\n",
    "* This columns are grouped.\n",
    "* For getting number of videos publised each month,count() function is used.\n",
    "* For getting a value in decreasing order,data is sorted using sort_values()function.\n",
    "* In the sort_values()function,type ascending=False.\n",
    "* It sort and returns a values in descending order , by mention ascending=False.\n",
    "* And then head(5)function is used to get top  five values.\n",
    "\n"
   ]
  },
  {
   "cell_type": "markdown",
   "id": "6648f7f4",
   "metadata": {},
   "source": [
    "**9. Find the count of unique video_id, channel_id and channel_title**"
   ]
  },
  {
   "cell_type": "code",
   "execution_count": 100,
   "id": "d1655723",
   "metadata": {},
   "outputs": [
    {
     "data": {
      "text/plain": [
       "video_id         37264\n",
       "channel_id       10891\n",
       "channel_title    10813\n",
       "dtype: int64"
      ]
     },
     "execution_count": 100,
     "metadata": {},
     "output_type": "execute_result"
    }
   ],
   "source": [
    "d1[['video_id','channel_id','channel_title']].nunique()\n",
    "#number of unique values"
   ]
  },
  {
   "cell_type": "markdown",
   "id": "845ebb5c",
   "metadata": {},
   "source": [
    "**INFERENCE:**\n",
    "\n",
    "* Groupby()function is used to combine columns 'video_id','channel_id','channel_title'.\n",
    "* For getting unique value from these columns, nunique()function is used.\n",
    "* in .nunique() n helps to returns total number of unique values at each column.\n"
   ]
  },
  {
   "cell_type": "markdown",
   "id": "a2e88b18",
   "metadata": {},
   "source": [
    "**10. Find the top10 channel names having the highest number of videos in the dataset and the bottom 10 having lowest number of videos.**"
   ]
  },
  {
   "cell_type": "markdown",
   "id": "10ae278d",
   "metadata": {},
   "source": [
    " The top10 channel names having the highest number of videos in the dataset"
   ]
  },
  {
   "cell_type": "code",
   "execution_count": 101,
   "id": "b338463e",
   "metadata": {},
   "outputs": [
    {
     "data": {
      "text/plain": [
       "channel_title\n",
       "Sky Sports Football    533\n",
       "The United Stand       301\n",
       "BT Sport               246\n",
       "NBA                    209\n",
       "NFL                    162\n",
       "WWE                    122\n",
       "SSSniperWolf            99\n",
       "SSundee                 98\n",
       "FORMULA 1               87\n",
       "NHL                     86\n",
       "Name: video_id, dtype: int64"
      ]
     },
     "execution_count": 101,
     "metadata": {},
     "output_type": "execute_result"
    }
   ],
   "source": [
    "d1.groupby('channel_title')['video_id'].count().sort_values(ascending = False).head(10)\n",
    "#top 10 channels are return"
   ]
  },
  {
   "cell_type": "markdown",
   "id": "0c03edbd",
   "metadata": {},
   "source": [
    "**INFERENCE:**\n",
    "    \n",
    "    * Groupby()function is used to combine columns 'video_id','channel_title'.\n",
    "    * As to find top 10 channels which having highest number of videos,sorting a data in descending order.\n",
    "    * .count()function is used to get count of videos.\n",
    "    * For observation head(10) function used.\n",
    "    * As given 10 it retuns top 10 values.\n",
    "    "
   ]
  },
  {
   "cell_type": "markdown",
   "id": "dd777b5a",
   "metadata": {},
   "source": [
    "The bottom 10 having lowest number of videos"
   ]
  },
  {
   "cell_type": "code",
   "execution_count": 102,
   "id": "f13d5ee9",
   "metadata": {},
   "outputs": [
    {
     "data": {
      "text/plain": [
       "channel_title\n",
       "   SilverName                   1\n",
       "Miniatur Wunderland             1\n",
       "MiniBloxia                      1\n",
       "Mini Muka                       1\n",
       "Mini Ladd                       1\n",
       "MindYourLogic                   1\n",
       "Mind Body Tonic With Dr Sita    1\n",
       "Mimi Ar                         1\n",
       "Millyz                          1\n",
       "Milkair                         1\n",
       "Name: video_id, dtype: int64"
      ]
     },
     "execution_count": 102,
     "metadata": {},
     "output_type": "execute_result"
    }
   ],
   "source": [
    "d1.groupby('channel_title')['video_id'].count().sort_values(ascending = True).head(10)\n",
    "#bottom 10 channels are return"
   ]
  },
  {
   "cell_type": "markdown",
   "id": "37a05cdf",
   "metadata": {},
   "source": [
    "**INFERENCE:**\n",
    "\n",
    "* Groupby()function is used to combine columns 'video_id','channel_title'.\n",
    "* As to find top 10 channels which having lowest number of videos,sorting a data in ascending order.\n",
    "* .count()function is used to get count of videos.\n",
    "* For observation head(10) function used.\n",
    "* As given 10 it retuns top 10 values."
   ]
  },
  {
   "cell_type": "markdown",
   "id": "16b27626",
   "metadata": {},
   "source": [
    "**11. Find the title of the video which has the maximum number of likes and the title of the video having minimum likes and write your inferences.**"
   ]
  },
  {
   "cell_type": "markdown",
   "id": "e98252ae",
   "metadata": {},
   "source": [
    "The title of the video which has the maximum number of likes"
   ]
  },
  {
   "cell_type": "code",
   "execution_count": 105,
   "id": "802765b1",
   "metadata": {},
   "outputs": [
    {
     "data": {
      "text/html": [
       "<div>\n",
       "<style scoped>\n",
       "    .dataframe tbody tr th:only-of-type {\n",
       "        vertical-align: middle;\n",
       "    }\n",
       "\n",
       "    .dataframe tbody tr th {\n",
       "        vertical-align: top;\n",
       "    }\n",
       "\n",
       "    .dataframe thead th {\n",
       "        text-align: right;\n",
       "    }\n",
       "</style>\n",
       "<table border=\"1\" class=\"dataframe\">\n",
       "  <thead>\n",
       "    <tr style=\"text-align: right;\">\n",
       "      <th></th>\n",
       "      <th>likes</th>\n",
       "    </tr>\n",
       "    <tr>\n",
       "      <th>title</th>\n",
       "      <th></th>\n",
       "    </tr>\n",
       "  </thead>\n",
       "  <tbody>\n",
       "    <tr>\n",
       "      <th>BTS () 'Dynamite' Official MV</th>\n",
       "      <td>31837675</td>\n",
       "    </tr>\n",
       "  </tbody>\n",
       "</table>\n",
       "</div>"
      ],
      "text/plain": [
       "                                  likes\n",
       "title                                  \n",
       "BTS () 'Dynamite' Official MV  31837675"
      ]
     },
     "execution_count": 105,
     "metadata": {},
     "output_type": "execute_result"
    }
   ],
   "source": [
    "import numpy as np\n",
    "pd.pivot_table(d1, index = ['title'], values = ['likes'], aggfunc = np.max).sort_values(by = 'likes', ascending = False).head(1)"
   ]
  },
  {
   "cell_type": "markdown",
   "id": "6414511c",
   "metadata": {},
   "source": [
    "**INFERENCE:**\n",
    "\n",
    "* With using pivot table from pandas library, 'title' was given in index and 'likes' as values.\n",
    "* In aggregated function max is given as need to get maximum value.\n",
    "* In sorting is done in likes in descending order.\n",
    "* Return first column."
   ]
  },
  {
   "cell_type": "code",
   "execution_count": 127,
   "id": "c4825fa1",
   "metadata": {},
   "outputs": [
    {
     "data": {
      "text/html": [
       "<div>\n",
       "<style scoped>\n",
       "    .dataframe tbody tr th:only-of-type {\n",
       "        vertical-align: middle;\n",
       "    }\n",
       "\n",
       "    .dataframe tbody tr th {\n",
       "        vertical-align: top;\n",
       "    }\n",
       "\n",
       "    .dataframe thead th {\n",
       "        text-align: right;\n",
       "    }\n",
       "</style>\n",
       "<table border=\"1\" class=\"dataframe\">\n",
       "  <thead>\n",
       "    <tr style=\"text-align: right;\">\n",
       "      <th></th>\n",
       "      <th>likes</th>\n",
       "    </tr>\n",
       "    <tr>\n",
       "      <th>title</th>\n",
       "      <th></th>\n",
       "    </tr>\n",
       "  </thead>\n",
       "  <tbody>\n",
       "    <tr>\n",
       "      <th>Leading the Charge | Circle K</th>\n",
       "      <td>22</td>\n",
       "    </tr>\n",
       "  </tbody>\n",
       "</table>\n",
       "</div>"
      ],
      "text/plain": [
       "                               likes\n",
       "title                               \n",
       "Leading the Charge | Circle K     22"
      ]
     },
     "execution_count": 127,
     "metadata": {},
     "output_type": "execute_result"
    }
   ],
   "source": [
    "pd.pivot_table(d1, index = ['title'], values = ['likes'], aggfunc = np.max).sort_values(by = 'likes', ascending = True).head(1)"
   ]
  },
  {
   "cell_type": "markdown",
   "id": "2d368a8e",
   "metadata": {},
   "source": [
    "**INFERENCE:**\n",
    "\n",
    "* With using pivot table from pandas library, title was given in index and likes as values.\n",
    "* In aggregated function max is given. \n",
    "* In sorting is done in likes in ascending order for getting minimum value.\n",
    "* Return first column."
   ]
  },
  {
   "cell_type": "markdown",
   "id": "b53c50ce",
   "metadata": {},
   "source": [
    "**12. Find the title of the video which has the maximum number of dislikes and the title of the video having minimum dislikes and write your inferences**"
   ]
  },
  {
   "cell_type": "markdown",
   "id": "184e9137",
   "metadata": {},
   "source": [
    "*The title of the video which has the maximum number of dislikes*"
   ]
  },
  {
   "cell_type": "code",
   "execution_count": 108,
   "id": "6407026e",
   "metadata": {},
   "outputs": [
    {
     "data": {
      "text/html": [
       "<div>\n",
       "<style scoped>\n",
       "    .dataframe tbody tr th:only-of-type {\n",
       "        vertical-align: middle;\n",
       "    }\n",
       "\n",
       "    .dataframe tbody tr th {\n",
       "        vertical-align: top;\n",
       "    }\n",
       "\n",
       "    .dataframe thead th {\n",
       "        text-align: right;\n",
       "    }\n",
       "</style>\n",
       "<table border=\"1\" class=\"dataframe\">\n",
       "  <thead>\n",
       "    <tr style=\"text-align: right;\">\n",
       "      <th></th>\n",
       "      <th>dislikes</th>\n",
       "    </tr>\n",
       "    <tr>\n",
       "      <th>title</th>\n",
       "      <th></th>\n",
       "    </tr>\n",
       "  </thead>\n",
       "  <tbody>\n",
       "    <tr>\n",
       "      <th>Cuties | Official Trailer | Netflix</th>\n",
       "      <td>2397733</td>\n",
       "    </tr>\n",
       "  </tbody>\n",
       "</table>\n",
       "</div>"
      ],
      "text/plain": [
       "                                     dislikes\n",
       "title                                        \n",
       "Cuties | Official Trailer | Netflix   2397733"
      ]
     },
     "execution_count": 108,
     "metadata": {},
     "output_type": "execute_result"
    }
   ],
   "source": [
    "pd.pivot_table(d1, index = ['title'], values = ['dislikes'], aggfunc = np.max).sort_values(by = 'dislikes', ascending = False).head(1)"
   ]
  },
  {
   "cell_type": "markdown",
   "id": "4f5589ad",
   "metadata": {},
   "source": [
    "**INFERENCE:**\n",
    "    \n",
    "    * With using pivot table from pandas library, title was given in index and dislikes as values.\n",
    "    * In aggregated function max is given as need to get maximum value.\n",
    "    * In sorting is done in dislikes in descending order.\n",
    "    * Return first column."
   ]
  },
  {
   "cell_type": "markdown",
   "id": "07f296b6",
   "metadata": {},
   "source": [
    "The title of the video having minimum dislikes."
   ]
  },
  {
   "cell_type": "code",
   "execution_count": 109,
   "id": "1fb66ad3",
   "metadata": {},
   "outputs": [
    {
     "data": {
      "text/html": [
       "<div>\n",
       "<style scoped>\n",
       "    .dataframe tbody tr th:only-of-type {\n",
       "        vertical-align: middle;\n",
       "    }\n",
       "\n",
       "    .dataframe tbody tr th {\n",
       "        vertical-align: top;\n",
       "    }\n",
       "\n",
       "    .dataframe thead th {\n",
       "        text-align: right;\n",
       "    }\n",
       "</style>\n",
       "<table border=\"1\" class=\"dataframe\">\n",
       "  <thead>\n",
       "    <tr style=\"text-align: right;\">\n",
       "      <th></th>\n",
       "      <th>dislikes</th>\n",
       "    </tr>\n",
       "    <tr>\n",
       "      <th>title</th>\n",
       "      <th></th>\n",
       "    </tr>\n",
       "  </thead>\n",
       "  <tbody>\n",
       "    <tr>\n",
       "      <th>Tims For Good: A Taste Of The Familiar</th>\n",
       "      <td>3</td>\n",
       "    </tr>\n",
       "  </tbody>\n",
       "</table>\n",
       "</div>"
      ],
      "text/plain": [
       "                                        dislikes\n",
       "title                                           \n",
       "Tims For Good: A Taste Of The Familiar         3"
      ]
     },
     "execution_count": 109,
     "metadata": {},
     "output_type": "execute_result"
    }
   ],
   "source": [
    "pd.pivot_table(d1, index = ['title'], values = ['dislikes'], aggfunc = np.max).sort_values(by = 'dislikes', ascending = True).head(1)"
   ]
  },
  {
   "cell_type": "markdown",
   "id": "e1d1ec52",
   "metadata": {},
   "source": [
    "**INFERENCE:**\n",
    "\n",
    "    * With using pivot table from pandas library, title was given in index and dislikes as values.\n",
    "    * In aggregated function max is given.\n",
    "    * In sorting is done in dislikes in ascending order, for getting minimum number.\n",
    "    * Return first column."
   ]
  },
  {
   "cell_type": "markdown",
   "id": "b419550e",
   "metadata": {},
   "source": [
    "**13. Does the number of views have any effect on how many people disliked the video? Support your answer with a metric and a plot.**"
   ]
  },
  {
   "cell_type": "code",
   "execution_count": 118,
   "id": "cde757b2",
   "metadata": {},
   "outputs": [
    {
     "data": {
      "image/png": "[encoded data removed]",
      "text/plain": [
       "<Figure size 640x480 with 2 Axes>"
      ]
     },
     "metadata": {},
     "output_type": "display_data"
    }
   ],
   "source": [
    "import seaborn as sns\n",
    "import matplotlib.pyplot as plt\n",
    "sns.heatmap(d1[['view_count','dislikes']].corr(), annot = True, cmap = 'rainbow')\n",
    "plt.show() #heatmap is created to check correlation"
   ]
  },
  {
   "cell_type": "code",
   "execution_count": 121,
   "id": "07048030",
   "metadata": {},
   "outputs": [
    {
     "data": {
      "image/png": "[encoded data removed]",
      "text/plain": [
       "<Figure size 640x480 with 1 Axes>"
      ]
     },
     "metadata": {},
     "output_type": "display_data"
    }
   ],
   "source": [
    "import seaborn as sns\n",
    "import matplotlib.pyplot as plt\n",
    "sns.scatterplot(d1[['view_count','dislikes']])\n",
    "plt.show()#scatterplot visualization"
   ]
  },
  {
   "cell_type": "markdown",
   "id": "853a0f30",
   "metadata": {},
   "source": [
    "**INFERENCE:**\n",
    "\n",
    "    *For analysis a relationship activities between these two columns, took a correlation for these data.\n",
    "    *To check a correlation between data's, heatmap is used.\n",
    "    *Heatmap is used to show a correlation between columns.\n",
    "    *Here heatmap correlation is analysed,by importing seabon library and matplot library.\n",
    "    *Through,which we can plot heatmap.\n",
    "    \n",
    "**IT SHOWS :**\n",
    "\n",
    "    *The correlation value between view_count and dislikes is on the higher side.\n",
    "    *It seem to be much effect of view_count on the number of dislikes.\n",
    "    *Visualized with scatter plot."
   ]
  },
  {
   "cell_type": "markdown",
   "id": "1d1f1ca0",
   "metadata": {},
   "source": [
    "**14. Display all the information about the videos that were published in January, and mention the count of videos that were published in January.**"
   ]
  },
  {
   "cell_type": "code",
   "execution_count": 119,
   "id": "1f464259",
   "metadata": {},
   "outputs": [
    {
     "data": {
      "text/plain": [
       "2099"
      ]
     },
     "execution_count": 119,
     "metadata": {},
     "output_type": "execute_result"
    }
   ],
   "source": [
    "# Video count published on Januray.\n",
    "len(d1[d1['published_month'] == 'Jan'])"
   ]
  },
  {
   "cell_type": "markdown",
   "id": "5d7d6fe9",
   "metadata": {},
   "source": [
    "**INFERENCE:**\n",
    "\n",
    "    * For getting a count of video published on january month.\n",
    "    * len()function is used to take count of 'published_month' column which holding a data related to january month.\n",
    "    * It returns 2099 as a video count which was published on january."
   ]
  },
  {
   "cell_type": "code",
   "execution_count": 120,
   "id": "4f09d170",
   "metadata": {},
   "outputs": [
    {
     "data": {
      "text/html": [
       "<div>\n",
       "<style scoped>\n",
       "    .dataframe tbody tr th:only-of-type {\n",
       "        vertical-align: middle;\n",
       "    }\n",
       "\n",
       "    .dataframe tbody tr th {\n",
       "        vertical-align: top;\n",
       "    }\n",
       "\n",
       "    .dataframe thead th {\n",
       "        text-align: right;\n",
       "    }\n",
       "</style>\n",
       "<table border=\"1\" class=\"dataframe\">\n",
       "  <thead>\n",
       "    <tr style=\"text-align: right;\">\n",
       "      <th></th>\n",
       "      <th>video_id</th>\n",
       "      <th>title</th>\n",
       "      <th>channel_id</th>\n",
       "      <th>channel_title</th>\n",
       "      <th>published_at</th>\n",
       "      <th>view_count</th>\n",
       "      <th>likes</th>\n",
       "      <th>dislikes</th>\n",
       "      <th>comment_count</th>\n",
       "      <th>tags</th>\n",
       "      <th>description</th>\n",
       "      <th>comments</th>\n",
       "      <th>publishe_at</th>\n",
       "      <th>Published_month</th>\n",
       "      <th>published_month</th>\n",
       "    </tr>\n",
       "  </thead>\n",
       "  <tbody>\n",
       "    <tr>\n",
       "      <th>27</th>\n",
       "      <td>-2Gwm7QfBnE</td>\n",
       "      <td>Q&amp;A With Naisha</td>\n",
       "      <td>UCYwNMbogQFzMccPSuy-pPWg</td>\n",
       "      <td>MianTwins</td>\n",
       "      <td>2021-01-21 00:05:47</td>\n",
       "      <td>872372</td>\n",
       "      <td>38626</td>\n",
       "      <td>239</td>\n",
       "      <td>621</td>\n",
       "      <td></td>\n",
       "      <td>Hey Guys!!! this has been the most requested v...</td>\n",
       "      <td>I feel like Nate and Aishas personality match ...</td>\n",
       "      <td>2021-01-21 00:05:47</td>\n",
       "      <td>01</td>\n",
       "      <td>Jan</td>\n",
       "    </tr>\n",
       "    <tr>\n",
       "      <th>48</th>\n",
       "      <td>-4sfXSHSxzA</td>\n",
       "      <td>SURPRISING BRENT WITH HIS TIKTOK CRUSH!!</td>\n",
       "      <td>UCPpATKqmMV-CNRNWYaDUwiA</td>\n",
       "      <td>Alexa Rivera</td>\n",
       "      <td>2021-01-16 21:40:04</td>\n",
       "      <td>6504784</td>\n",
       "      <td>262477</td>\n",
       "      <td>5779</td>\n",
       "      <td>7907</td>\n",
       "      <td></td>\n",
       "      <td>He had no idea! Thank you guys so much for wat...</td>\n",
       "      <td>Thank you guys for watching and don't forget t...</td>\n",
       "      <td>2021-01-16 21:40:04</td>\n",
       "      <td>01</td>\n",
       "      <td>Jan</td>\n",
       "    </tr>\n",
       "    <tr>\n",
       "      <th>95</th>\n",
       "      <td>-AJD1Fc5rpQ</td>\n",
       "      <td>WE ARE HAVING A BABY! | finding out i'm pregna...</td>\n",
       "      <td>UCVsTboAhpnuL6j-tDePvNwQ</td>\n",
       "      <td>Tess Christine</td>\n",
       "      <td>2021-01-03 21:53:48</td>\n",
       "      <td>533084</td>\n",
       "      <td>38965</td>\n",
       "      <td>119</td>\n",
       "      <td>1650</td>\n",
       "      <td></td>\n",
       "      <td>I am so happy to tell you that I am pregnant!!...</td>\n",
       "      <td>Okay I needed a moment to collect my thoughts ...</td>\n",
       "      <td>2021-01-03 21:53:48</td>\n",
       "      <td>01</td>\n",
       "      <td>Jan</td>\n",
       "    </tr>\n",
       "    <tr>\n",
       "      <th>103</th>\n",
       "      <td>-AuJiwjsmWk</td>\n",
       "      <td>Do Ugly Foods Taste Worse? Taste Test</td>\n",
       "      <td>UCzpCc5n9hqiVC7HhPwcIKEg</td>\n",
       "      <td>Good Mythical MORE</td>\n",
       "      <td>2021-01-19 11:00:01</td>\n",
       "      <td>1057077</td>\n",
       "      <td>22526</td>\n",
       "      <td>531</td>\n",
       "      <td>773</td>\n",
       "      <td>gmm good mythical morning rhettandlink rhett a...</td>\n",
       "      <td>Today, we're doing a blind taste test to deter...</td>\n",
       "      <td>\"there's nothing wrong with it being bent\"\\nI ...</td>\n",
       "      <td>2021-01-19 11:00:01</td>\n",
       "      <td>01</td>\n",
       "      <td>Jan</td>\n",
       "    </tr>\n",
       "    <tr>\n",
       "      <th>182</th>\n",
       "      <td>-JhqO2KWr5U</td>\n",
       "      <td>Schlatt gets fit</td>\n",
       "      <td>UCWZp4y1jqBuvLtiyxSs_ZBw</td>\n",
       "      <td>Big guy</td>\n",
       "      <td>2021-01-24 22:50:57</td>\n",
       "      <td>1724965</td>\n",
       "      <td>119431</td>\n",
       "      <td>325</td>\n",
       "      <td>1578</td>\n",
       "      <td>jschlatt big guy jschlatt highlights schlatt j...</td>\n",
       "      <td>#jschlatt #schlatt #bigguy #short</td>\n",
       "      <td>Schlatt is single handedly wiping out all the ...</td>\n",
       "      <td>2021-01-24 22:50:57</td>\n",
       "      <td>01</td>\n",
       "      <td>Jan</td>\n",
       "    </tr>\n",
       "    <tr>\n",
       "      <th>...</th>\n",
       "      <td>...</td>\n",
       "      <td>...</td>\n",
       "      <td>...</td>\n",
       "      <td>...</td>\n",
       "      <td>...</td>\n",
       "      <td>...</td>\n",
       "      <td>...</td>\n",
       "      <td>...</td>\n",
       "      <td>...</td>\n",
       "      <td>...</td>\n",
       "      <td>...</td>\n",
       "      <td>...</td>\n",
       "      <td>...</td>\n",
       "      <td>...</td>\n",
       "      <td>...</td>\n",
       "    </tr>\n",
       "    <tr>\n",
       "      <th>37300</th>\n",
       "      <td>zmzFL5bG-jc</td>\n",
       "      <td>DEVINE MON PERSONNAGE AVANT AKINATOR ! (c'est ...</td>\n",
       "      <td>UCIlr3byh6wmXgcPx_Tm9Ocw</td>\n",
       "      <td>Piwerre</td>\n",
       "      <td>2021-01-16 16:12:19</td>\n",
       "      <td>670357</td>\n",
       "      <td>54462</td>\n",
       "      <td>832</td>\n",
       "      <td>1249</td>\n",
       "      <td>Piwerre frere de michou crouton among us devin...</td>\n",
       "      <td>Discord Piwerre : https://discord.gg/QBduPgAA...</td>\n",
       "      <td>Mdr michou quand c'est pas ses tournage il fou...</td>\n",
       "      <td>2021-01-16 16:12:19</td>\n",
       "      <td>01</td>\n",
       "      <td>Jan</td>\n",
       "    </tr>\n",
       "    <tr>\n",
       "      <th>37329</th>\n",
       "      <td>zpzjex7qwrA</td>\n",
       "      <td>Lampard Sacked Within Days Rorys Misery | Chel...</td>\n",
       "      <td>UCkD-ZOixI0a9FjIExDsHsbg</td>\n",
       "      <td>The Kick Off</td>\n",
       "      <td>2021-01-03 20:13:49</td>\n",
       "      <td>428646</td>\n",
       "      <td>12060</td>\n",
       "      <td>296</td>\n",
       "      <td>1505</td>\n",
       "      <td>Premier league Chelsea chelsea 1-3 Man City Ch...</td>\n",
       "      <td>The Kick Off watched Manchester City destroy C...</td>\n",
       "      <td>True Its like a fighter who Geordie But I thou...</td>\n",
       "      <td>2021-01-03 20:13:49</td>\n",
       "      <td>01</td>\n",
       "      <td>Jan</td>\n",
       "    </tr>\n",
       "    <tr>\n",
       "      <th>37345</th>\n",
       "      <td>zqyv-B6mnBM</td>\n",
       "      <td>Lil Wayne - Ain't Got Time (Audio)</td>\n",
       "      <td>UCO9zJy7HWrIS3ojB4Lr7Yqw</td>\n",
       "      <td>Lil Wayne</td>\n",
       "      <td>2021-01-21 05:00:10</td>\n",
       "      <td>2238244</td>\n",
       "      <td>58925</td>\n",
       "      <td>2365</td>\n",
       "      <td>5539</td>\n",
       "      <td>lil wayne weezy weezy wednesday wayne carter y...</td>\n",
       "      <td>Official audio for Lil Wayne \"Ain't Got Time\",...</td>\n",
       "      <td>RIP Juice Wrld, wrote that on two cups, pour o...</td>\n",
       "      <td>2021-01-21 05:00:10</td>\n",
       "      <td>01</td>\n",
       "      <td>Jan</td>\n",
       "    </tr>\n",
       "    <tr>\n",
       "      <th>37383</th>\n",
       "      <td>zwfu1-24T7Q</td>\n",
       "      <td>PRADA Cup Day 1 | Full Race Replay | PRADA Cup...</td>\n",
       "      <td>UCo15ZYO_XDRU9LI30OPtxAg</td>\n",
       "      <td>America's Cup</td>\n",
       "      <td>2021-01-15 04:07:55</td>\n",
       "      <td>317382</td>\n",
       "      <td>2008</td>\n",
       "      <td>83</td>\n",
       "      <td>192</td>\n",
       "      <td>America's Cup Americas Cup AC36 AC75 Presented...</td>\n",
       "      <td>The opening day of the PRADA Cup in Auckland, ...</td>\n",
       "      <td>Incredible how these boats evolve in a short t...</td>\n",
       "      <td>2021-01-15 04:07:55</td>\n",
       "      <td>01</td>\n",
       "      <td>Jan</td>\n",
       "    </tr>\n",
       "    <tr>\n",
       "      <th>37418</th>\n",
       "      <td>zziBybeSAtw</td>\n",
       "      <td>PELICANS at LAKERS | FULL GAME HIGHLIGHTS | Ja...</td>\n",
       "      <td>UCWJ2lWNubArHWmf3FIHbfcQ</td>\n",
       "      <td>NBA</td>\n",
       "      <td>2021-01-16 05:39:05</td>\n",
       "      <td>2841917</td>\n",
       "      <td>20759</td>\n",
       "      <td>1049</td>\n",
       "      <td>2624</td>\n",
       "      <td>NBA G League Basketball game-0022000187 Lakers...</td>\n",
       "      <td>PELICANS at LAKERS | FULL GAME HIGHLIGHTS | Ja...</td>\n",
       "      <td>Montrezl Harrell is going crazy with the rebou...</td>\n",
       "      <td>2021-01-16 05:39:05</td>\n",
       "      <td>01</td>\n",
       "      <td>Jan</td>\n",
       "    </tr>\n",
       "  </tbody>\n",
       "</table>\n",
       "<p>2099 rows × 15 columns</p>\n",
       "</div>"
      ],
      "text/plain": [
       "          video_id                                              title  \\\n",
       "27     -2Gwm7QfBnE                                    Q&A With Naisha   \n",
       "48     -4sfXSHSxzA           SURPRISING BRENT WITH HIS TIKTOK CRUSH!!   \n",
       "95     -AJD1Fc5rpQ  WE ARE HAVING A BABY! | finding out i'm pregna...   \n",
       "103    -AuJiwjsmWk              Do Ugly Foods Taste Worse? Taste Test   \n",
       "182    -JhqO2KWr5U                                   Schlatt gets fit   \n",
       "...            ...                                                ...   \n",
       "37300  zmzFL5bG-jc  DEVINE MON PERSONNAGE AVANT AKINATOR ! (c'est ...   \n",
       "37329  zpzjex7qwrA  Lampard Sacked Within Days Rorys Misery | Chel...   \n",
       "37345  zqyv-B6mnBM                 Lil Wayne - Ain't Got Time (Audio)   \n",
       "37383  zwfu1-24T7Q  PRADA Cup Day 1 | Full Race Replay | PRADA Cup...   \n",
       "37418  zziBybeSAtw  PELICANS at LAKERS | FULL GAME HIGHLIGHTS | Ja...   \n",
       "\n",
       "                     channel_id       channel_title        published_at  \\\n",
       "27     UCYwNMbogQFzMccPSuy-pPWg           MianTwins 2021-01-21 00:05:47   \n",
       "48     UCPpATKqmMV-CNRNWYaDUwiA        Alexa Rivera 2021-01-16 21:40:04   \n",
       "95     UCVsTboAhpnuL6j-tDePvNwQ      Tess Christine 2021-01-03 21:53:48   \n",
       "103    UCzpCc5n9hqiVC7HhPwcIKEg  Good Mythical MORE 2021-01-19 11:00:01   \n",
       "182    UCWZp4y1jqBuvLtiyxSs_ZBw             Big guy 2021-01-24 22:50:57   \n",
       "...                         ...                 ...                 ...   \n",
       "37300  UCIlr3byh6wmXgcPx_Tm9Ocw             Piwerre 2021-01-16 16:12:19   \n",
       "37329  UCkD-ZOixI0a9FjIExDsHsbg        The Kick Off 2021-01-03 20:13:49   \n",
       "37345  UCO9zJy7HWrIS3ojB4Lr7Yqw           Lil Wayne 2021-01-21 05:00:10   \n",
       "37383  UCo15ZYO_XDRU9LI30OPtxAg       America's Cup 2021-01-15 04:07:55   \n",
       "37418  UCWJ2lWNubArHWmf3FIHbfcQ                 NBA 2021-01-16 05:39:05   \n",
       "\n",
       "       view_count   likes  dislikes  comment_count  \\\n",
       "27         872372   38626       239            621   \n",
       "48        6504784  262477      5779           7907   \n",
       "95         533084   38965       119           1650   \n",
       "103       1057077   22526       531            773   \n",
       "182       1724965  119431       325           1578   \n",
       "...           ...     ...       ...            ...   \n",
       "37300      670357   54462       832           1249   \n",
       "37329      428646   12060       296           1505   \n",
       "37345     2238244   58925      2365           5539   \n",
       "37383      317382    2008        83            192   \n",
       "37418     2841917   20759      1049           2624   \n",
       "\n",
       "                                                    tags  \\\n",
       "27                                                         \n",
       "48                                                         \n",
       "95                                                         \n",
       "103    gmm good mythical morning rhettandlink rhett a...   \n",
       "182    jschlatt big guy jschlatt highlights schlatt j...   \n",
       "...                                                  ...   \n",
       "37300  Piwerre frere de michou crouton among us devin...   \n",
       "37329  Premier league Chelsea chelsea 1-3 Man City Ch...   \n",
       "37345  lil wayne weezy weezy wednesday wayne carter y...   \n",
       "37383  America's Cup Americas Cup AC36 AC75 Presented...   \n",
       "37418  NBA G League Basketball game-0022000187 Lakers...   \n",
       "\n",
       "                                             description  \\\n",
       "27     Hey Guys!!! this has been the most requested v...   \n",
       "48     He had no idea! Thank you guys so much for wat...   \n",
       "95     I am so happy to tell you that I am pregnant!!...   \n",
       "103    Today, we're doing a blind taste test to deter...   \n",
       "182                    #jschlatt #schlatt #bigguy #short   \n",
       "...                                                  ...   \n",
       "37300   Discord Piwerre : https://discord.gg/QBduPgAA...   \n",
       "37329  The Kick Off watched Manchester City destroy C...   \n",
       "37345  Official audio for Lil Wayne \"Ain't Got Time\",...   \n",
       "37383  The opening day of the PRADA Cup in Auckland, ...   \n",
       "37418  PELICANS at LAKERS | FULL GAME HIGHLIGHTS | Ja...   \n",
       "\n",
       "                                                comments         publishe_at  \\\n",
       "27     I feel like Nate and Aishas personality match ... 2021-01-21 00:05:47   \n",
       "48     Thank you guys for watching and don't forget t... 2021-01-16 21:40:04   \n",
       "95     Okay I needed a moment to collect my thoughts ... 2021-01-03 21:53:48   \n",
       "103    \"there's nothing wrong with it being bent\"\\nI ... 2021-01-19 11:00:01   \n",
       "182    Schlatt is single handedly wiping out all the ... 2021-01-24 22:50:57   \n",
       "...                                                  ...                 ...   \n",
       "37300  Mdr michou quand c'est pas ses tournage il fou... 2021-01-16 16:12:19   \n",
       "37329  True Its like a fighter who Geordie But I thou... 2021-01-03 20:13:49   \n",
       "37345  RIP Juice Wrld, wrote that on two cups, pour o... 2021-01-21 05:00:10   \n",
       "37383  Incredible how these boats evolve in a short t... 2021-01-15 04:07:55   \n",
       "37418  Montrezl Harrell is going crazy with the rebou... 2021-01-16 05:39:05   \n",
       "\n",
       "      Published_month published_month  \n",
       "27                 01             Jan  \n",
       "48                 01             Jan  \n",
       "95                 01             Jan  \n",
       "103                01             Jan  \n",
       "182                01             Jan  \n",
       "...               ...             ...  \n",
       "37300              01             Jan  \n",
       "37329              01             Jan  \n",
       "37345              01             Jan  \n",
       "37383              01             Jan  \n",
       "37418              01             Jan  \n",
       "\n",
       "[2099 rows x 15 columns]"
      ]
     },
     "execution_count": 120,
     "metadata": {},
     "output_type": "execute_result"
    }
   ],
   "source": [
    "# Information of the videos published on January.\n",
    "d1[d1['published_month'] == 'Jan']"
   ]
  },
  {
   "cell_type": "markdown",
   "id": "19f93ec2",
   "metadata": {},
   "source": [
    "**INFERENCE:**\n",
    "\n",
    "    * From the d1 variable,we get a column 'published_month'.\n",
    "    * For getting a january month related data, assigned d1[d1['published_month']]='jan']\n",
    "    * It returns all the data related to january.\n",
    "    "
   ]
  },
  {
   "cell_type": "code",
   "execution_count": null,
   "id": "f886e119",
   "metadata": {},
   "outputs": [],
   "source": []
  }
 ],
 "metadata": {
  "kernelspec": {
   "display_name": "Python 3 (ipykernel)",
   "language": "python",
   "name": "python3"
  },
  "language_info": {
   "codemirror_mode": {
    "name": "ipython",
    "version": 3
   },
   "file_extension": ".py",
   "mimetype": "text/x-python",
   "name": "python",
   "nbconvert_exporter": "python",
   "pygments_lexer": "ipython3",
   "version": "3.10.9"
  }
 },
 "nbformat": 4,
 "nbformat_minor": 5
}
